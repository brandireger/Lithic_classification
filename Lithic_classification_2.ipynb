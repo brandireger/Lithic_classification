{
 "cells": [
  {
   "cell_type": "markdown",
   "metadata": {},
   "source": [
    "Prior to loading the dataset into R, it was pre-processed in Excel. The raw elemental intensities were each divided by the Rh column, which scaled each element, and a new column for each element was generated. Then, all amounts less than or equal to 0 were replaced with 0.0001, to avoid any issues with NaNs in the dataset."
   ]
  },
  {
   "cell_type": "markdown",
   "metadata": {},
   "source": [
    "# Load libraries"
   ]
  },
  {
   "cell_type": "code",
   "execution_count": 1,
   "metadata": {},
   "outputs": [
    {
     "name": "stdout",
     "output_type": "stream",
     "text": [
      "\n",
      "The downloaded binary packages are in\n",
      "\t/var/folders/pr/t9901z0n4z7dbkstysncwp0m0000gn/T//RtmpiNPk8M/downloaded_packages\n"
     ]
    },
    {
     "name": "stderr",
     "output_type": "stream",
     "text": [
      "Warning message:\n",
      "“dependency ‘superpc’ is not available”\n"
     ]
    },
    {
     "name": "stdout",
     "output_type": "stream",
     "text": [
      "\n",
      "The downloaded binary packages are in\n",
      "\t/var/folders/pr/t9901z0n4z7dbkstysncwp0m0000gn/T//RtmpiNPk8M/downloaded_packages\n"
     ]
    },
    {
     "name": "stderr",
     "output_type": "stream",
     "text": [
      "Loading required package: lattice\n",
      "\n",
      "Loading required package: ggplot2\n",
      "\n"
     ]
    },
    {
     "name": "stdout",
     "output_type": "stream",
     "text": [
      "\n",
      "The downloaded binary packages are in\n",
      "\t/var/folders/pr/t9901z0n4z7dbkstysncwp0m0000gn/T//RtmpiNPk8M/downloaded_packages\n"
     ]
    },
    {
     "name": "stderr",
     "output_type": "stream",
     "text": [
      "Bioconductor version 3.11 (BiocManager 1.30.10), R 4.0.2 (2020-06-22)\n",
      "\n",
      "Installing package(s) 'Biobase'\n",
      "\n"
     ]
    },
    {
     "name": "stdout",
     "output_type": "stream",
     "text": [
      "\n",
      "The downloaded binary packages are in\n",
      "\t/var/folders/pr/t9901z0n4z7dbkstysncwp0m0000gn/T//RtmpiNPk8M/downloaded_packages\n"
     ]
    },
    {
     "name": "stderr",
     "output_type": "stream",
     "text": [
      "Old packages: 'backports', 'callr', 'covr', 'devtools', 'DT', 'fs', 'glue',\n",
      "  'htmlwidgets', 'IRkernel', 'jsonlite', 'knitr', 'MASS', 'mgcv', 'nlme',\n",
      "  'openssl', 'pkgbuild', 'processx', 'ps', 'RcppArmadillo', 'remotes',\n",
      "  'stringi', 'survival', 'sys', 'usethis', 'withr', 'xfun'\n",
      "\n",
      "Loading required package: BiocGenerics\n",
      "\n",
      "Loading required package: parallel\n",
      "\n",
      "\n",
      "Attaching package: ‘BiocGenerics’\n",
      "\n",
      "\n",
      "The following objects are masked from ‘package:parallel’:\n",
      "\n",
      "    clusterApply, clusterApplyLB, clusterCall, clusterEvalQ,\n",
      "    clusterExport, clusterMap, parApply, parCapply, parLapply,\n",
      "    parLapplyLB, parRapply, parSapply, parSapplyLB\n",
      "\n",
      "\n",
      "The following objects are masked from ‘package:stats’:\n",
      "\n",
      "    IQR, mad, sd, var, xtabs\n",
      "\n",
      "\n",
      "The following objects are masked from ‘package:base’:\n",
      "\n",
      "    anyDuplicated, append, as.data.frame, basename, cbind, colnames,\n",
      "    dirname, do.call, duplicated, eval, evalq, Filter, Find, get, grep,\n",
      "    grepl, intersect, is.unsorted, lapply, Map, mapply, match, mget,\n",
      "    order, paste, pmax, pmax.int, pmin, pmin.int, Position, rank,\n",
      "    rbind, Reduce, rownames, sapply, setdiff, sort, table, tapply,\n",
      "    union, unique, unsplit, which, which.max, which.min\n",
      "\n",
      "\n",
      "Welcome to Bioconductor\n",
      "\n",
      "    Vignettes contain introductory material; view with\n",
      "    'browseVignettes()'. To cite Bioconductor, see\n",
      "    'citation(\"Biobase\")', and for packages 'citation(\"pkgname\")'.\n",
      "\n",
      "\n"
     ]
    },
    {
     "name": "stdout",
     "output_type": "stream",
     "text": [
      "\n",
      "The downloaded binary packages are in\n",
      "\t/var/folders/pr/t9901z0n4z7dbkstysncwp0m0000gn/T//RtmpiNPk8M/downloaded_packages\n"
     ]
    },
    {
     "name": "stderr",
     "output_type": "stream",
     "text": [
      "randomForest 4.6-14\n",
      "\n",
      "Type rfNews() to see new features/changes/bug fixes.\n",
      "\n",
      "\n",
      "Attaching package: ‘randomForest’\n",
      "\n",
      "\n",
      "The following object is masked from ‘package:Biobase’:\n",
      "\n",
      "    combine\n",
      "\n",
      "\n",
      "The following object is masked from ‘package:BiocGenerics’:\n",
      "\n",
      "    combine\n",
      "\n",
      "\n",
      "The following object is masked from ‘package:ggplot2’:\n",
      "\n",
      "    margin\n",
      "\n",
      "\n"
     ]
    }
   ],
   "source": [
    "# try installing vctrs fresh, since it is giving me errors\n",
    "#install.packages(\"vctrs\", dependencies = TRUE, repos = 'http://cran.us.r-project.org')\n",
    "library(vctrs)\n",
    "\n",
    "# caret package is used to create partition of the dataset, generating a stratified train & test set\n",
    "#install.packages(\"caret\", dependencies = TRUE, repos = 'http://cran.us.r-project.org')\n",
    "library(caret)\n",
    "\n",
    "# Dicer library is used to run ensemble clustering, which generates interim labels for unknown samples\n",
    "#install.packages(\"diceR\", dependencies = TRUE, repos = 'http://cran.us.r-project.org')\n",
    "library(diceR)\n",
    "\n",
    "# try installing Biobase, since I got error messages\n",
    "#if (!requireNamespace(\"BiocManager\", quietly = TRUE))\n",
    "#    install.packages(\"BiocManager\")\n",
    "#BiocManager::install(\"Biobase\")\n",
    "library(Biobase)\n",
    "\n",
    "# randomForest is the classification system which identifies unknown samples\n",
    "#install.packages(\"randomForest\", dependencies = TRUE, repos = 'http://cran.us.r-project.org')\n",
    "library(randomForest)"
   ]
  },
  {
   "cell_type": "code",
   "execution_count": 2,
   "metadata": {},
   "outputs": [],
   "source": [
    "# set the seed\n",
    "set.seed(24924)"
   ]
  },
  {
   "cell_type": "markdown",
   "metadata": {},
   "source": [
    "# Load train dataset"
   ]
  },
  {
   "cell_type": "code",
   "execution_count": 3,
   "metadata": {},
   "outputs": [
    {
     "data": {
      "text/html": [
       "<table>\n",
       "<caption>A data.frame: 6 × 58</caption>\n",
       "<thead>\n",
       "\t<tr><th></th><th scope=col>X</th><th scope=col>is_known</th><th scope=col>Vis</th><th scope=col>Ag</th><th scope=col>Al</th><th scope=col>As</th><th scope=col>Au</th><th scope=col>Ca</th><th scope=col>Cu</th><th scope=col>Fe</th><th scope=col>⋯</th><th scope=col>Si.Rh</th><th scope=col>Sn.Rh</th><th scope=col>Sr.Rh</th><th scope=col>Th.Rh</th><th scope=col>Ti.Rh</th><th scope=col>U.Rh</th><th scope=col>V.Rh</th><th scope=col>Y.Rh</th><th scope=col>Zn.Rh</th><th scope=col>Zr.Rh</th></tr>\n",
       "\t<tr><th></th><th scope=col>&lt;chr&gt;</th><th scope=col>&lt;chr&gt;</th><th scope=col>&lt;chr&gt;</th><th scope=col>&lt;int&gt;</th><th scope=col>&lt;dbl&gt;</th><th scope=col>&lt;dbl&gt;</th><th scope=col>&lt;dbl&gt;</th><th scope=col>&lt;int&gt;</th><th scope=col>&lt;int&gt;</th><th scope=col>&lt;int&gt;</th><th scope=col>⋯</th><th scope=col>&lt;dbl&gt;</th><th scope=col>&lt;dbl&gt;</th><th scope=col>&lt;dbl&gt;</th><th scope=col>&lt;dbl&gt;</th><th scope=col>&lt;dbl&gt;</th><th scope=col>&lt;dbl&gt;</th><th scope=col>&lt;dbl&gt;</th><th scope=col>&lt;dbl&gt;</th><th scope=col>&lt;dbl&gt;</th><th scope=col>&lt;dbl&gt;</th></tr>\n",
       "</thead>\n",
       "<tbody>\n",
       "\t<tr><th scope=row>1</th><td>71.11.1-89.01</td><td>Guess</td><td>Gravel Cherts</td><td>1368</td><td>  1</td><td>  0.0001</td><td>54</td><td>1515</td><td>331</td><td>5335</td><td>⋯</td><td>0.06234530</td><td>0.030244431</td><td>0.13691213</td><td>2.328280e-02</td><td>0.015702351</td><td>0.027769183</td><td>0.005491955</td><td>0.003635520</td><td>0.090423886</td><td>7.740000e-09</td></tr>\n",
       "\t<tr><th scope=row>2</th><td>71.11.1-89.02</td><td>Guess</td><td>Gravel Cherts</td><td>1269</td><td> 15</td><td> 55.0000</td><td>25</td><td> 682</td><td>300</td><td>2670</td><td>⋯</td><td>0.06373444</td><td>0.019170124</td><td>0.18995851</td><td>1.294606e-02</td><td>0.013609959</td><td>0.016431535</td><td>0.006887967</td><td>0.000083000</td><td>0.071867220</td><td>8.300000e-09</td></tr>\n",
       "\t<tr><th scope=row>3</th><td>71.11.1-89.03</td><td>Guess</td><td>Gravel Cherts</td><td>1165</td><td> 32</td><td>  4.0000</td><td>46</td><td> 607</td><td>523</td><td>6119</td><td>⋯</td><td>0.05545573</td><td>0.010944136</td><td>0.09882391</td><td>7.350539e-03</td><td>0.018703038</td><td>0.008330611</td><td>0.005308723</td><td>0.004573669</td><td>0.039692911</td><td>2.531852e-03</td></tr>\n",
       "\t<tr><th scope=row>4</th><td>71.11.1-89.04</td><td>Guess</td><td>Gravel Cherts</td><td>1299</td><td> 40</td><td> 42.0000</td><td>45</td><td> 338</td><td>410</td><td>5307</td><td>⋯</td><td>0.06011742</td><td>0.010667328</td><td>0.04589432</td><td>1.174233e-02</td><td>0.021582734</td><td>0.024559663</td><td>0.001901927</td><td>0.011080791</td><td>0.032746217</td><td>4.796163e-03</td></tr>\n",
       "\t<tr><th scope=row>5</th><td>71.11.1-89.05</td><td>Guess</td><td>Gravel Cherts</td><td>1724</td><td> 35</td><td>  0.0001</td><td>51</td><td> 201</td><td>301</td><td>1745</td><td>⋯</td><td>0.07111721</td><td>0.002502422</td><td>0.08411366</td><td>6.780756e-03</td><td>0.010251857</td><td>0.010494026</td><td>0.005247013</td><td>0.012431385</td><td>0.009283177</td><td>8.070000e-09</td></tr>\n",
       "\t<tr><th scope=row>6</th><td>71.11.1-89.06</td><td>Guess</td><td>Gravel Cherts</td><td>1246</td><td>139</td><td>159.0000</td><td>18</td><td> 188</td><td>292</td><td>4858</td><td>⋯</td><td>0.07108405</td><td>0.009646556</td><td>0.09575393</td><td>7.910000e-09</td><td>0.008381434</td><td>0.006167471</td><td>0.001897683</td><td>0.000079100</td><td>0.014627975</td><td>5.851190e-03</td></tr>\n",
       "</tbody>\n",
       "</table>\n"
      ],
      "text/latex": [
       "A data.frame: 6 × 58\n",
       "\\begin{tabular}{r|lllllllllllllllllllll}\n",
       "  & X & is\\_known & Vis & Ag & Al & As & Au & Ca & Cu & Fe & ⋯ & Si.Rh & Sn.Rh & Sr.Rh & Th.Rh & Ti.Rh & U.Rh & V.Rh & Y.Rh & Zn.Rh & Zr.Rh\\\\\n",
       "  & <chr> & <chr> & <chr> & <int> & <dbl> & <dbl> & <dbl> & <int> & <int> & <int> & ⋯ & <dbl> & <dbl> & <dbl> & <dbl> & <dbl> & <dbl> & <dbl> & <dbl> & <dbl> & <dbl>\\\\\n",
       "\\hline\n",
       "\t1 & 71.11.1-89.01 & Guess & Gravel Cherts & 1368 &   1 &   0.0001 & 54 & 1515 & 331 & 5335 & ⋯ & 0.06234530 & 0.030244431 & 0.13691213 & 2.328280e-02 & 0.015702351 & 0.027769183 & 0.005491955 & 0.003635520 & 0.090423886 & 7.740000e-09\\\\\n",
       "\t2 & 71.11.1-89.02 & Guess & Gravel Cherts & 1269 &  15 &  55.0000 & 25 &  682 & 300 & 2670 & ⋯ & 0.06373444 & 0.019170124 & 0.18995851 & 1.294606e-02 & 0.013609959 & 0.016431535 & 0.006887967 & 0.000083000 & 0.071867220 & 8.300000e-09\\\\\n",
       "\t3 & 71.11.1-89.03 & Guess & Gravel Cherts & 1165 &  32 &   4.0000 & 46 &  607 & 523 & 6119 & ⋯ & 0.05545573 & 0.010944136 & 0.09882391 & 7.350539e-03 & 0.018703038 & 0.008330611 & 0.005308723 & 0.004573669 & 0.039692911 & 2.531852e-03\\\\\n",
       "\t4 & 71.11.1-89.04 & Guess & Gravel Cherts & 1299 &  40 &  42.0000 & 45 &  338 & 410 & 5307 & ⋯ & 0.06011742 & 0.010667328 & 0.04589432 & 1.174233e-02 & 0.021582734 & 0.024559663 & 0.001901927 & 0.011080791 & 0.032746217 & 4.796163e-03\\\\\n",
       "\t5 & 71.11.1-89.05 & Guess & Gravel Cherts & 1724 &  35 &   0.0001 & 51 &  201 & 301 & 1745 & ⋯ & 0.07111721 & 0.002502422 & 0.08411366 & 6.780756e-03 & 0.010251857 & 0.010494026 & 0.005247013 & 0.012431385 & 0.009283177 & 8.070000e-09\\\\\n",
       "\t6 & 71.11.1-89.06 & Guess & Gravel Cherts & 1246 & 139 & 159.0000 & 18 &  188 & 292 & 4858 & ⋯ & 0.07108405 & 0.009646556 & 0.09575393 & 7.910000e-09 & 0.008381434 & 0.006167471 & 0.001897683 & 0.000079100 & 0.014627975 & 5.851190e-03\\\\\n",
       "\\end{tabular}\n"
      ],
      "text/markdown": [
       "\n",
       "A data.frame: 6 × 58\n",
       "\n",
       "| <!--/--> | X &lt;chr&gt; | is_known &lt;chr&gt; | Vis &lt;chr&gt; | Ag &lt;int&gt; | Al &lt;dbl&gt; | As &lt;dbl&gt; | Au &lt;dbl&gt; | Ca &lt;int&gt; | Cu &lt;int&gt; | Fe &lt;int&gt; | ⋯ ⋯ | Si.Rh &lt;dbl&gt; | Sn.Rh &lt;dbl&gt; | Sr.Rh &lt;dbl&gt; | Th.Rh &lt;dbl&gt; | Ti.Rh &lt;dbl&gt; | U.Rh &lt;dbl&gt; | V.Rh &lt;dbl&gt; | Y.Rh &lt;dbl&gt; | Zn.Rh &lt;dbl&gt; | Zr.Rh &lt;dbl&gt; |\n",
       "|---|---|---|---|---|---|---|---|---|---|---|---|---|---|---|---|---|---|---|---|---|---|\n",
       "| 1 | 71.11.1-89.01 | Guess | Gravel Cherts | 1368 |   1 |   0.0001 | 54 | 1515 | 331 | 5335 | ⋯ | 0.06234530 | 0.030244431 | 0.13691213 | 2.328280e-02 | 0.015702351 | 0.027769183 | 0.005491955 | 0.003635520 | 0.090423886 | 7.740000e-09 |\n",
       "| 2 | 71.11.1-89.02 | Guess | Gravel Cherts | 1269 |  15 |  55.0000 | 25 |  682 | 300 | 2670 | ⋯ | 0.06373444 | 0.019170124 | 0.18995851 | 1.294606e-02 | 0.013609959 | 0.016431535 | 0.006887967 | 0.000083000 | 0.071867220 | 8.300000e-09 |\n",
       "| 3 | 71.11.1-89.03 | Guess | Gravel Cherts | 1165 |  32 |   4.0000 | 46 |  607 | 523 | 6119 | ⋯ | 0.05545573 | 0.010944136 | 0.09882391 | 7.350539e-03 | 0.018703038 | 0.008330611 | 0.005308723 | 0.004573669 | 0.039692911 | 2.531852e-03 |\n",
       "| 4 | 71.11.1-89.04 | Guess | Gravel Cherts | 1299 |  40 |  42.0000 | 45 |  338 | 410 | 5307 | ⋯ | 0.06011742 | 0.010667328 | 0.04589432 | 1.174233e-02 | 0.021582734 | 0.024559663 | 0.001901927 | 0.011080791 | 0.032746217 | 4.796163e-03 |\n",
       "| 5 | 71.11.1-89.05 | Guess | Gravel Cherts | 1724 |  35 |   0.0001 | 51 |  201 | 301 | 1745 | ⋯ | 0.07111721 | 0.002502422 | 0.08411366 | 6.780756e-03 | 0.010251857 | 0.010494026 | 0.005247013 | 0.012431385 | 0.009283177 | 8.070000e-09 |\n",
       "| 6 | 71.11.1-89.06 | Guess | Gravel Cherts | 1246 | 139 | 159.0000 | 18 |  188 | 292 | 4858 | ⋯ | 0.07108405 | 0.009646556 | 0.09575393 | 7.910000e-09 | 0.008381434 | 0.006167471 | 0.001897683 | 0.000079100 | 0.014627975 | 5.851190e-03 |\n",
       "\n"
      ],
      "text/plain": [
       "  X             is_known Vis           Ag   Al  As       Au Ca   Cu  Fe   ⋯\n",
       "1 71.11.1-89.01 Guess    Gravel Cherts 1368   1   0.0001 54 1515 331 5335 ⋯\n",
       "2 71.11.1-89.02 Guess    Gravel Cherts 1269  15  55.0000 25  682 300 2670 ⋯\n",
       "3 71.11.1-89.03 Guess    Gravel Cherts 1165  32   4.0000 46  607 523 6119 ⋯\n",
       "4 71.11.1-89.04 Guess    Gravel Cherts 1299  40  42.0000 45  338 410 5307 ⋯\n",
       "5 71.11.1-89.05 Guess    Gravel Cherts 1724  35   0.0001 51  201 301 1745 ⋯\n",
       "6 71.11.1-89.06 Guess    Gravel Cherts 1246 139 159.0000 18  188 292 4858 ⋯\n",
       "  Si.Rh      Sn.Rh       Sr.Rh      Th.Rh        Ti.Rh       U.Rh       \n",
       "1 0.06234530 0.030244431 0.13691213 2.328280e-02 0.015702351 0.027769183\n",
       "2 0.06373444 0.019170124 0.18995851 1.294606e-02 0.013609959 0.016431535\n",
       "3 0.05545573 0.010944136 0.09882391 7.350539e-03 0.018703038 0.008330611\n",
       "4 0.06011742 0.010667328 0.04589432 1.174233e-02 0.021582734 0.024559663\n",
       "5 0.07111721 0.002502422 0.08411366 6.780756e-03 0.010251857 0.010494026\n",
       "6 0.07108405 0.009646556 0.09575393 7.910000e-09 0.008381434 0.006167471\n",
       "  V.Rh        Y.Rh        Zn.Rh       Zr.Rh       \n",
       "1 0.005491955 0.003635520 0.090423886 7.740000e-09\n",
       "2 0.006887967 0.000083000 0.071867220 8.300000e-09\n",
       "3 0.005308723 0.004573669 0.039692911 2.531852e-03\n",
       "4 0.001901927 0.011080791 0.032746217 4.796163e-03\n",
       "5 0.005247013 0.012431385 0.009283177 8.070000e-09\n",
       "6 0.001897683 0.000079100 0.014627975 5.851190e-03"
      ]
     },
     "metadata": {},
     "output_type": "display_data"
    }
   ],
   "source": [
    "train <- read.csv(\"AllSamples.csv\", header = TRUE)\n",
    "# remove silicified wood & limestone types from the dataset\n",
    "train <- train[(train$Vis != \"Silicified Wood\" & train$Vis != \"Limestone\"),]\n",
    "\n",
    "head(train)"
   ]
  },
  {
   "cell_type": "code",
   "execution_count": 4,
   "metadata": {},
   "outputs": [
    {
     "data": {
      "text/html": [
       "<style>\n",
       ".list-inline {list-style: none; margin:0; padding: 0}\n",
       ".list-inline>li {display: inline-block}\n",
       ".list-inline>li:not(:last-child)::after {content: \"\\00b7\"; padding: 0 .5ex}\n",
       "</style>\n",
       "<ol class=list-inline><li>1166</li><li>58</li></ol>\n"
      ],
      "text/latex": [
       "\\begin{enumerate*}\n",
       "\\item 1166\n",
       "\\item 58\n",
       "\\end{enumerate*}\n"
      ],
      "text/markdown": [
       "1. 1166\n",
       "2. 58\n",
       "\n",
       "\n"
      ],
      "text/plain": [
       "[1] 1166   58"
      ]
     },
     "metadata": {},
     "output_type": "display_data"
    }
   ],
   "source": [
    "dim(train)"
   ]
  },
  {
   "cell_type": "code",
   "execution_count": 5,
   "metadata": {},
   "outputs": [
    {
     "data": {
      "text/html": [
       "<table>\n",
       "<caption>A data.frame: 6 × 30</caption>\n",
       "<thead>\n",
       "\t<tr><th></th><th scope=col>sample_id</th><th scope=col>is_known</th><th scope=col>Vis</th><th scope=col>Ag.Rh</th><th scope=col>Al.Rh</th><th scope=col>As.Rh</th><th scope=col>Au.Rh</th><th scope=col>Ca.Rh</th><th scope=col>Cu.Rh</th><th scope=col>Fe.Rh</th><th scope=col>⋯</th><th scope=col>Si.Rh</th><th scope=col>Sn.Rh</th><th scope=col>Sr.Rh</th><th scope=col>Th.Rh</th><th scope=col>Ti.Rh</th><th scope=col>U.Rh</th><th scope=col>V.Rh</th><th scope=col>Y.Rh</th><th scope=col>Zn.Rh</th><th scope=col>Zr.Rh</th></tr>\n",
       "\t<tr><th></th><th scope=col>&lt;chr&gt;</th><th scope=col>&lt;chr&gt;</th><th scope=col>&lt;chr&gt;</th><th scope=col>&lt;dbl&gt;</th><th scope=col>&lt;dbl&gt;</th><th scope=col>&lt;dbl&gt;</th><th scope=col>&lt;dbl&gt;</th><th scope=col>&lt;dbl&gt;</th><th scope=col>&lt;dbl&gt;</th><th scope=col>&lt;dbl&gt;</th><th scope=col>⋯</th><th scope=col>&lt;dbl&gt;</th><th scope=col>&lt;dbl&gt;</th><th scope=col>&lt;dbl&gt;</th><th scope=col>&lt;dbl&gt;</th><th scope=col>&lt;dbl&gt;</th><th scope=col>&lt;dbl&gt;</th><th scope=col>&lt;dbl&gt;</th><th scope=col>&lt;dbl&gt;</th><th scope=col>&lt;dbl&gt;</th><th scope=col>&lt;dbl&gt;</th></tr>\n",
       "</thead>\n",
       "<tbody>\n",
       "\t<tr><th scope=row>1</th><td>71.11.1-89.01</td><td>Guess</td><td>Gravel Cherts</td><td>0.10581683</td><td>0.000077400</td><td>7.740000e-09</td><td>0.004176980</td><td>0.11718750</td><td>0.02560334</td><td>0.4126702</td><td>⋯</td><td>0.06234530</td><td>0.030244431</td><td>0.13691213</td><td>2.328280e-02</td><td>0.015702351</td><td>0.027769183</td><td>0.005491955</td><td>0.003635520</td><td>0.090423886</td><td>7.740000e-09</td></tr>\n",
       "\t<tr><th scope=row>2</th><td>71.11.1-89.02</td><td>Guess</td><td>Gravel Cherts</td><td>0.10531120</td><td>0.001244813</td><td>4.564315e-03</td><td>0.002074689</td><td>0.05659751</td><td>0.02489627</td><td>0.2215768</td><td>⋯</td><td>0.06373444</td><td>0.019170124</td><td>0.18995851</td><td>1.294606e-02</td><td>0.013609959</td><td>0.016431535</td><td>0.006887967</td><td>0.000083000</td><td>0.071867220</td><td>8.300000e-09</td></tr>\n",
       "\t<tr><th scope=row>3</th><td>71.11.1-89.03</td><td>Guess</td><td>Gravel Cherts</td><td>0.09514864</td><td>0.002613525</td><td>3.266910e-04</td><td>0.003756942</td><td>0.04957530</td><td>0.04271480</td><td>0.4997550</td><td>⋯</td><td>0.05545573</td><td>0.010944136</td><td>0.09882391</td><td>7.350539e-03</td><td>0.018703038</td><td>0.008330611</td><td>0.005308723</td><td>0.004573669</td><td>0.039692911</td><td>2.531852e-03</td></tr>\n",
       "\t<tr><th scope=row>4</th><td>71.11.1-89.04</td><td>Guess</td><td>Gravel Cherts</td><td>0.10741751</td><td>0.003307699</td><td>3.473084e-03</td><td>0.003721161</td><td>0.02795005</td><td>0.03390391</td><td>0.4388489</td><td>⋯</td><td>0.06011742</td><td>0.010667328</td><td>0.04589432</td><td>1.174233e-02</td><td>0.021582734</td><td>0.024559663</td><td>0.001901927</td><td>0.011080791</td><td>0.032746217</td><td>4.796163e-03</td></tr>\n",
       "\t<tr><th scope=row>5</th><td>71.11.1-89.05</td><td>Guess</td><td>Gravel Cherts</td><td>0.13916694</td><td>0.002825315</td><td>8.070000e-09</td><td>0.004116887</td><td>0.01622538</td><td>0.02429771</td><td>0.1408621</td><td>⋯</td><td>0.07111721</td><td>0.002502422</td><td>0.08411366</td><td>6.780756e-03</td><td>0.010251857</td><td>0.010494026</td><td>0.005247013</td><td>0.012431385</td><td>0.009283177</td><td>8.070000e-09</td></tr>\n",
       "\t<tr><th scope=row>6</th><td>71.11.1-89.06</td><td>Guess</td><td>Gravel Cherts</td><td>0.09852139</td><td>0.010990749</td><td>1.257215e-02</td><td>0.001423262</td><td>0.01486518</td><td>0.02308848</td><td>0.3841227</td><td>⋯</td><td>0.07108405</td><td>0.009646556</td><td>0.09575393</td><td>7.910000e-09</td><td>0.008381434</td><td>0.006167471</td><td>0.001897683</td><td>0.000079100</td><td>0.014627975</td><td>5.851190e-03</td></tr>\n",
       "</tbody>\n",
       "</table>\n"
      ],
      "text/latex": [
       "A data.frame: 6 × 30\n",
       "\\begin{tabular}{r|lllllllllllllllllllll}\n",
       "  & sample\\_id & is\\_known & Vis & Ag.Rh & Al.Rh & As.Rh & Au.Rh & Ca.Rh & Cu.Rh & Fe.Rh & ⋯ & Si.Rh & Sn.Rh & Sr.Rh & Th.Rh & Ti.Rh & U.Rh & V.Rh & Y.Rh & Zn.Rh & Zr.Rh\\\\\n",
       "  & <chr> & <chr> & <chr> & <dbl> & <dbl> & <dbl> & <dbl> & <dbl> & <dbl> & <dbl> & ⋯ & <dbl> & <dbl> & <dbl> & <dbl> & <dbl> & <dbl> & <dbl> & <dbl> & <dbl> & <dbl>\\\\\n",
       "\\hline\n",
       "\t1 & 71.11.1-89.01 & Guess & Gravel Cherts & 0.10581683 & 0.000077400 & 7.740000e-09 & 0.004176980 & 0.11718750 & 0.02560334 & 0.4126702 & ⋯ & 0.06234530 & 0.030244431 & 0.13691213 & 2.328280e-02 & 0.015702351 & 0.027769183 & 0.005491955 & 0.003635520 & 0.090423886 & 7.740000e-09\\\\\n",
       "\t2 & 71.11.1-89.02 & Guess & Gravel Cherts & 0.10531120 & 0.001244813 & 4.564315e-03 & 0.002074689 & 0.05659751 & 0.02489627 & 0.2215768 & ⋯ & 0.06373444 & 0.019170124 & 0.18995851 & 1.294606e-02 & 0.013609959 & 0.016431535 & 0.006887967 & 0.000083000 & 0.071867220 & 8.300000e-09\\\\\n",
       "\t3 & 71.11.1-89.03 & Guess & Gravel Cherts & 0.09514864 & 0.002613525 & 3.266910e-04 & 0.003756942 & 0.04957530 & 0.04271480 & 0.4997550 & ⋯ & 0.05545573 & 0.010944136 & 0.09882391 & 7.350539e-03 & 0.018703038 & 0.008330611 & 0.005308723 & 0.004573669 & 0.039692911 & 2.531852e-03\\\\\n",
       "\t4 & 71.11.1-89.04 & Guess & Gravel Cherts & 0.10741751 & 0.003307699 & 3.473084e-03 & 0.003721161 & 0.02795005 & 0.03390391 & 0.4388489 & ⋯ & 0.06011742 & 0.010667328 & 0.04589432 & 1.174233e-02 & 0.021582734 & 0.024559663 & 0.001901927 & 0.011080791 & 0.032746217 & 4.796163e-03\\\\\n",
       "\t5 & 71.11.1-89.05 & Guess & Gravel Cherts & 0.13916694 & 0.002825315 & 8.070000e-09 & 0.004116887 & 0.01622538 & 0.02429771 & 0.1408621 & ⋯ & 0.07111721 & 0.002502422 & 0.08411366 & 6.780756e-03 & 0.010251857 & 0.010494026 & 0.005247013 & 0.012431385 & 0.009283177 & 8.070000e-09\\\\\n",
       "\t6 & 71.11.1-89.06 & Guess & Gravel Cherts & 0.09852139 & 0.010990749 & 1.257215e-02 & 0.001423262 & 0.01486518 & 0.02308848 & 0.3841227 & ⋯ & 0.07108405 & 0.009646556 & 0.09575393 & 7.910000e-09 & 0.008381434 & 0.006167471 & 0.001897683 & 0.000079100 & 0.014627975 & 5.851190e-03\\\\\n",
       "\\end{tabular}\n"
      ],
      "text/markdown": [
       "\n",
       "A data.frame: 6 × 30\n",
       "\n",
       "| <!--/--> | sample_id &lt;chr&gt; | is_known &lt;chr&gt; | Vis &lt;chr&gt; | Ag.Rh &lt;dbl&gt; | Al.Rh &lt;dbl&gt; | As.Rh &lt;dbl&gt; | Au.Rh &lt;dbl&gt; | Ca.Rh &lt;dbl&gt; | Cu.Rh &lt;dbl&gt; | Fe.Rh &lt;dbl&gt; | ⋯ ⋯ | Si.Rh &lt;dbl&gt; | Sn.Rh &lt;dbl&gt; | Sr.Rh &lt;dbl&gt; | Th.Rh &lt;dbl&gt; | Ti.Rh &lt;dbl&gt; | U.Rh &lt;dbl&gt; | V.Rh &lt;dbl&gt; | Y.Rh &lt;dbl&gt; | Zn.Rh &lt;dbl&gt; | Zr.Rh &lt;dbl&gt; |\n",
       "|---|---|---|---|---|---|---|---|---|---|---|---|---|---|---|---|---|---|---|---|---|---|\n",
       "| 1 | 71.11.1-89.01 | Guess | Gravel Cherts | 0.10581683 | 0.000077400 | 7.740000e-09 | 0.004176980 | 0.11718750 | 0.02560334 | 0.4126702 | ⋯ | 0.06234530 | 0.030244431 | 0.13691213 | 2.328280e-02 | 0.015702351 | 0.027769183 | 0.005491955 | 0.003635520 | 0.090423886 | 7.740000e-09 |\n",
       "| 2 | 71.11.1-89.02 | Guess | Gravel Cherts | 0.10531120 | 0.001244813 | 4.564315e-03 | 0.002074689 | 0.05659751 | 0.02489627 | 0.2215768 | ⋯ | 0.06373444 | 0.019170124 | 0.18995851 | 1.294606e-02 | 0.013609959 | 0.016431535 | 0.006887967 | 0.000083000 | 0.071867220 | 8.300000e-09 |\n",
       "| 3 | 71.11.1-89.03 | Guess | Gravel Cherts | 0.09514864 | 0.002613525 | 3.266910e-04 | 0.003756942 | 0.04957530 | 0.04271480 | 0.4997550 | ⋯ | 0.05545573 | 0.010944136 | 0.09882391 | 7.350539e-03 | 0.018703038 | 0.008330611 | 0.005308723 | 0.004573669 | 0.039692911 | 2.531852e-03 |\n",
       "| 4 | 71.11.1-89.04 | Guess | Gravel Cherts | 0.10741751 | 0.003307699 | 3.473084e-03 | 0.003721161 | 0.02795005 | 0.03390391 | 0.4388489 | ⋯ | 0.06011742 | 0.010667328 | 0.04589432 | 1.174233e-02 | 0.021582734 | 0.024559663 | 0.001901927 | 0.011080791 | 0.032746217 | 4.796163e-03 |\n",
       "| 5 | 71.11.1-89.05 | Guess | Gravel Cherts | 0.13916694 | 0.002825315 | 8.070000e-09 | 0.004116887 | 0.01622538 | 0.02429771 | 0.1408621 | ⋯ | 0.07111721 | 0.002502422 | 0.08411366 | 6.780756e-03 | 0.010251857 | 0.010494026 | 0.005247013 | 0.012431385 | 0.009283177 | 8.070000e-09 |\n",
       "| 6 | 71.11.1-89.06 | Guess | Gravel Cherts | 0.09852139 | 0.010990749 | 1.257215e-02 | 0.001423262 | 0.01486518 | 0.02308848 | 0.3841227 | ⋯ | 0.07108405 | 0.009646556 | 0.09575393 | 7.910000e-09 | 0.008381434 | 0.006167471 | 0.001897683 | 0.000079100 | 0.014627975 | 5.851190e-03 |\n",
       "\n"
      ],
      "text/plain": [
       "  sample_id     is_known Vis           Ag.Rh      Al.Rh       As.Rh       \n",
       "1 71.11.1-89.01 Guess    Gravel Cherts 0.10581683 0.000077400 7.740000e-09\n",
       "2 71.11.1-89.02 Guess    Gravel Cherts 0.10531120 0.001244813 4.564315e-03\n",
       "3 71.11.1-89.03 Guess    Gravel Cherts 0.09514864 0.002613525 3.266910e-04\n",
       "4 71.11.1-89.04 Guess    Gravel Cherts 0.10741751 0.003307699 3.473084e-03\n",
       "5 71.11.1-89.05 Guess    Gravel Cherts 0.13916694 0.002825315 8.070000e-09\n",
       "6 71.11.1-89.06 Guess    Gravel Cherts 0.09852139 0.010990749 1.257215e-02\n",
       "  Au.Rh       Ca.Rh      Cu.Rh      Fe.Rh     ⋯ Si.Rh      Sn.Rh      \n",
       "1 0.004176980 0.11718750 0.02560334 0.4126702 ⋯ 0.06234530 0.030244431\n",
       "2 0.002074689 0.05659751 0.02489627 0.2215768 ⋯ 0.06373444 0.019170124\n",
       "3 0.003756942 0.04957530 0.04271480 0.4997550 ⋯ 0.05545573 0.010944136\n",
       "4 0.003721161 0.02795005 0.03390391 0.4388489 ⋯ 0.06011742 0.010667328\n",
       "5 0.004116887 0.01622538 0.02429771 0.1408621 ⋯ 0.07111721 0.002502422\n",
       "6 0.001423262 0.01486518 0.02308848 0.3841227 ⋯ 0.07108405 0.009646556\n",
       "  Sr.Rh      Th.Rh        Ti.Rh       U.Rh        V.Rh        Y.Rh       \n",
       "1 0.13691213 2.328280e-02 0.015702351 0.027769183 0.005491955 0.003635520\n",
       "2 0.18995851 1.294606e-02 0.013609959 0.016431535 0.006887967 0.000083000\n",
       "3 0.09882391 7.350539e-03 0.018703038 0.008330611 0.005308723 0.004573669\n",
       "4 0.04589432 1.174233e-02 0.021582734 0.024559663 0.001901927 0.011080791\n",
       "5 0.08411366 6.780756e-03 0.010251857 0.010494026 0.005247013 0.012431385\n",
       "6 0.09575393 7.910000e-09 0.008381434 0.006167471 0.001897683 0.000079100\n",
       "  Zn.Rh       Zr.Rh       \n",
       "1 0.090423886 7.740000e-09\n",
       "2 0.071867220 8.300000e-09\n",
       "3 0.039692911 2.531852e-03\n",
       "4 0.032746217 4.796163e-03\n",
       "5 0.009283177 8.070000e-09\n",
       "6 0.014627975 5.851190e-03"
      ]
     },
     "metadata": {},
     "output_type": "display_data"
    }
   ],
   "source": [
    "# restrict dataset to only important columns: sample id, is_known, and the elemental intensities\n",
    "train_df = train[,c(1,2,3,32:58)]\n",
    "# rename X to sample_id\n",
    "names(train_df)[1] <- \"sample_id\"\n",
    "# preview dataset\n",
    "head(train_df)"
   ]
  },
  {
   "cell_type": "markdown",
   "metadata": {},
   "source": [
    "# Choose a clustering method\n",
    "\n",
    "Please see the notebooks \"cluster_alg_selection.ipynb\" & \"cluster_alg_selection_2.ipynb\" for more information on this step. The result of those two notebooks is that we selected the gmm algorithm with 5 clusters to create the labels for the artifacts."
   ]
  },
  {
   "cell_type": "markdown",
   "metadata": {},
   "source": [
    "# Run ensemble clustering on train dataset"
   ]
  },
  {
   "cell_type": "code",
   "execution_count": 6,
   "metadata": {},
   "outputs": [
    {
     "name": "stderr",
     "output_type": "stream",
     "text": [
      "\n",
      "Clustering Algorithm 1 of 1: GMM (k = 3) [=========>-----------]  50% eta:  1m\n",
      "\n",
      "Clustering Algorithm 1 of 1: GMM (k = 4) [===============>-----]  75% eta: 46s\n",
      "\n",
      "Clustering Algorithm 1 of 1: GMM (k = 5) [=====================] 100% eta:  0s\n",
      "\n",
      "\n"
     ]
    }
   ],
   "source": [
    "cluster <- consensus_cluster(train_df[,4:30], nk=2:5, p.item=1, reps=1, \n",
    "                             algorithms=c(\"gmm\"), scale = FALSE)"
   ]
  },
  {
   "cell_type": "code",
   "execution_count": 7,
   "metadata": {},
   "outputs": [
    {
     "data": {
      "text/html": [
       "<table>\n",
       "<caption>A matrix: 6 × 4 of type dbl</caption>\n",
       "<thead>\n",
       "\t<tr><th></th><th scope=col>2</th><th scope=col>3</th><th scope=col>4</th><th scope=col>5</th></tr>\n",
       "</thead>\n",
       "<tbody>\n",
       "\t<tr><th scope=row>1</th><td>1</td><td>3</td><td>4</td><td>5</td></tr>\n",
       "\t<tr><th scope=row>2</th><td>1</td><td>1</td><td>1</td><td>5</td></tr>\n",
       "\t<tr><th scope=row>3</th><td>1</td><td>1</td><td>1</td><td>1</td></tr>\n",
       "\t<tr><th scope=row>4</th><td>1</td><td>1</td><td>1</td><td>1</td></tr>\n",
       "\t<tr><th scope=row>5</th><td>1</td><td>1</td><td>1</td><td>1</td></tr>\n",
       "\t<tr><th scope=row>6</th><td>1</td><td>1</td><td>1</td><td>1</td></tr>\n",
       "</tbody>\n",
       "</table>\n"
      ],
      "text/latex": [
       "A matrix: 6 × 4 of type dbl\n",
       "\\begin{tabular}{r|llll}\n",
       "  & 2 & 3 & 4 & 5\\\\\n",
       "\\hline\n",
       "\t1 & 1 & 3 & 4 & 5\\\\\n",
       "\t2 & 1 & 1 & 1 & 5\\\\\n",
       "\t3 & 1 & 1 & 1 & 1\\\\\n",
       "\t4 & 1 & 1 & 1 & 1\\\\\n",
       "\t5 & 1 & 1 & 1 & 1\\\\\n",
       "\t6 & 1 & 1 & 1 & 1\\\\\n",
       "\\end{tabular}\n"
      ],
      "text/markdown": [
       "\n",
       "A matrix: 6 × 4 of type dbl\n",
       "\n",
       "| <!--/--> | 2 | 3 | 4 | 5 |\n",
       "|---|---|---|---|---|\n",
       "| 1 | 1 | 3 | 4 | 5 |\n",
       "| 2 | 1 | 1 | 1 | 5 |\n",
       "| 3 | 1 | 1 | 1 | 1 |\n",
       "| 4 | 1 | 1 | 1 | 1 |\n",
       "| 5 | 1 | 1 | 1 | 1 |\n",
       "| 6 | 1 | 1 | 1 | 1 |\n",
       "\n"
      ],
      "text/plain": [
       "  2 3 4 5\n",
       "1 1 3 4 5\n",
       "2 1 1 1 5\n",
       "3 1 1 1 1\n",
       "4 1 1 1 1\n",
       "5 1 1 1 1\n",
       "6 1 1 1 1"
      ]
     },
     "metadata": {},
     "output_type": "display_data"
    }
   ],
   "source": [
    "# save the results of the algorithm as a dataframe\n",
    "gmm <- cluster[,,\"GMM\",1:4]\n",
    "head(gmm)"
   ]
  },
  {
   "cell_type": "code",
   "execution_count": 8,
   "metadata": {},
   "outputs": [
    {
     "data": {
      "text/html": [
       "<table>\n",
       "<caption>A data.frame: 6 × 4</caption>\n",
       "<thead>\n",
       "\t<tr><th></th><th scope=col>2</th><th scope=col>3</th><th scope=col>4</th><th scope=col>5</th></tr>\n",
       "\t<tr><th></th><th scope=col>&lt;chr&gt;</th><th scope=col>&lt;chr&gt;</th><th scope=col>&lt;chr&gt;</th><th scope=col>&lt;chr&gt;</th></tr>\n",
       "</thead>\n",
       "<tbody>\n",
       "\t<tr><th scope=row>1</th><td>Group_1</td><td>Group_3</td><td>Group_4</td><td>Group_5</td></tr>\n",
       "\t<tr><th scope=row>2</th><td>Group_1</td><td>Group_1</td><td>Group_1</td><td>Group_5</td></tr>\n",
       "\t<tr><th scope=row>3</th><td>Group_1</td><td>Group_1</td><td>Group_1</td><td>Group_1</td></tr>\n",
       "\t<tr><th scope=row>4</th><td>Group_1</td><td>Group_1</td><td>Group_1</td><td>Group_1</td></tr>\n",
       "\t<tr><th scope=row>5</th><td>Group_1</td><td>Group_1</td><td>Group_1</td><td>Group_1</td></tr>\n",
       "\t<tr><th scope=row>6</th><td>Group_1</td><td>Group_1</td><td>Group_1</td><td>Group_1</td></tr>\n",
       "</tbody>\n",
       "</table>\n"
      ],
      "text/latex": [
       "A data.frame: 6 × 4\n",
       "\\begin{tabular}{r|llll}\n",
       "  & 2 & 3 & 4 & 5\\\\\n",
       "  & <chr> & <chr> & <chr> & <chr>\\\\\n",
       "\\hline\n",
       "\t1 & Group\\_1 & Group\\_3 & Group\\_4 & Group\\_5\\\\\n",
       "\t2 & Group\\_1 & Group\\_1 & Group\\_1 & Group\\_5\\\\\n",
       "\t3 & Group\\_1 & Group\\_1 & Group\\_1 & Group\\_1\\\\\n",
       "\t4 & Group\\_1 & Group\\_1 & Group\\_1 & Group\\_1\\\\\n",
       "\t5 & Group\\_1 & Group\\_1 & Group\\_1 & Group\\_1\\\\\n",
       "\t6 & Group\\_1 & Group\\_1 & Group\\_1 & Group\\_1\\\\\n",
       "\\end{tabular}\n"
      ],
      "text/markdown": [
       "\n",
       "A data.frame: 6 × 4\n",
       "\n",
       "| <!--/--> | 2 &lt;chr&gt; | 3 &lt;chr&gt; | 4 &lt;chr&gt; | 5 &lt;chr&gt; |\n",
       "|---|---|---|---|---|\n",
       "| 1 | Group_1 | Group_3 | Group_4 | Group_5 |\n",
       "| 2 | Group_1 | Group_1 | Group_1 | Group_5 |\n",
       "| 3 | Group_1 | Group_1 | Group_1 | Group_1 |\n",
       "| 4 | Group_1 | Group_1 | Group_1 | Group_1 |\n",
       "| 5 | Group_1 | Group_1 | Group_1 | Group_1 |\n",
       "| 6 | Group_1 | Group_1 | Group_1 | Group_1 |\n",
       "\n"
      ],
      "text/plain": [
       "  2       3       4       5      \n",
       "1 Group_1 Group_3 Group_4 Group_5\n",
       "2 Group_1 Group_1 Group_1 Group_5\n",
       "3 Group_1 Group_1 Group_1 Group_1\n",
       "4 Group_1 Group_1 Group_1 Group_1\n",
       "5 Group_1 Group_1 Group_1 Group_1\n",
       "6 Group_1 Group_1 Group_1 Group_1"
      ]
     },
     "metadata": {},
     "output_type": "display_data"
    }
   ],
   "source": [
    "# Each number in the table refers to the group that each sample has been assigned to.\n",
    "# Edit each value in the tables by adding \"Group_\" to each of the numbers so that they are strings and can be counted, not summed, by crosstab\n",
    "gmm[,1:4] <- paste(\"Group\", gmm[,1:4], sep = \"_\")\n",
    "# turn this matrix into a dataframe\n",
    "gmm <- as.data.frame(gmm)\n",
    "head(gmm)"
   ]
  },
  {
   "cell_type": "code",
   "execution_count": 9,
   "metadata": {},
   "outputs": [
    {
     "data": {
      "text/html": [
       "<table>\n",
       "<caption>A data.frame: 25 × 3</caption>\n",
       "<thead>\n",
       "\t<tr><th scope=col>X5</th><th scope=col>vis</th><th scope=col>Freq</th></tr>\n",
       "\t<tr><th scope=col>&lt;fct&gt;</th><th scope=col>&lt;fct&gt;</th><th scope=col>&lt;int&gt;</th></tr>\n",
       "</thead>\n",
       "<tbody>\n",
       "\t<tr><td>Group_1</td><td>Alibates             </td><td> 15</td></tr>\n",
       "\t<tr><td>Group_2</td><td>Alibates             </td><td>  0</td></tr>\n",
       "\t<tr><td>Group_3</td><td>Alibates             </td><td>  2</td></tr>\n",
       "\t<tr><td>Group_4</td><td>Alibates             </td><td>  3</td></tr>\n",
       "\t<tr><td>Group_5</td><td>Alibates             </td><td>  3</td></tr>\n",
       "\t<tr><td>Group_1</td><td>Edwards Plateau Chert</td><td> 46</td></tr>\n",
       "\t<tr><td>Group_2</td><td>Edwards Plateau Chert</td><td>  1</td></tr>\n",
       "\t<tr><td>Group_3</td><td>Edwards Plateau Chert</td><td>  0</td></tr>\n",
       "\t<tr><td>Group_4</td><td>Edwards Plateau Chert</td><td> 11</td></tr>\n",
       "\t<tr><td>Group_5</td><td>Edwards Plateau Chert</td><td> 14</td></tr>\n",
       "\t<tr><td>Group_1</td><td>El Sauz Chert        </td><td>  0</td></tr>\n",
       "\t<tr><td>Group_2</td><td>El Sauz Chert        </td><td>  0</td></tr>\n",
       "\t<tr><td>Group_3</td><td>El Sauz Chert        </td><td>212</td></tr>\n",
       "\t<tr><td>Group_4</td><td>El Sauz Chert        </td><td> 63</td></tr>\n",
       "\t<tr><td>Group_5</td><td>El Sauz Chert        </td><td>  0</td></tr>\n",
       "\t<tr><td>Group_1</td><td>Knife River Flint    </td><td>  4</td></tr>\n",
       "\t<tr><td>Group_2</td><td>Knife River Flint    </td><td>  2</td></tr>\n",
       "\t<tr><td>Group_3</td><td>Knife River Flint    </td><td>  1</td></tr>\n",
       "\t<tr><td>Group_4</td><td>Knife River Flint    </td><td>  1</td></tr>\n",
       "\t<tr><td>Group_5</td><td>Knife River Flint    </td><td>  4</td></tr>\n",
       "\t<tr><td>Group_1</td><td>Oman Chert           </td><td>  0</td></tr>\n",
       "\t<tr><td>Group_2</td><td>Oman Chert           </td><td>  3</td></tr>\n",
       "\t<tr><td>Group_3</td><td>Oman Chert           </td><td>  0</td></tr>\n",
       "\t<tr><td>Group_4</td><td>Oman Chert           </td><td> 13</td></tr>\n",
       "\t<tr><td>Group_5</td><td>Oman Chert           </td><td>  5</td></tr>\n",
       "</tbody>\n",
       "</table>\n"
      ],
      "text/latex": [
       "A data.frame: 25 × 3\n",
       "\\begin{tabular}{lll}\n",
       " X5 & vis & Freq\\\\\n",
       " <fct> & <fct> & <int>\\\\\n",
       "\\hline\n",
       "\t Group\\_1 & Alibates              &  15\\\\\n",
       "\t Group\\_2 & Alibates              &   0\\\\\n",
       "\t Group\\_3 & Alibates              &   2\\\\\n",
       "\t Group\\_4 & Alibates              &   3\\\\\n",
       "\t Group\\_5 & Alibates              &   3\\\\\n",
       "\t Group\\_1 & Edwards Plateau Chert &  46\\\\\n",
       "\t Group\\_2 & Edwards Plateau Chert &   1\\\\\n",
       "\t Group\\_3 & Edwards Plateau Chert &   0\\\\\n",
       "\t Group\\_4 & Edwards Plateau Chert &  11\\\\\n",
       "\t Group\\_5 & Edwards Plateau Chert &  14\\\\\n",
       "\t Group\\_1 & El Sauz Chert         &   0\\\\\n",
       "\t Group\\_2 & El Sauz Chert         &   0\\\\\n",
       "\t Group\\_3 & El Sauz Chert         & 212\\\\\n",
       "\t Group\\_4 & El Sauz Chert         &  63\\\\\n",
       "\t Group\\_5 & El Sauz Chert         &   0\\\\\n",
       "\t Group\\_1 & Knife River Flint     &   4\\\\\n",
       "\t Group\\_2 & Knife River Flint     &   2\\\\\n",
       "\t Group\\_3 & Knife River Flint     &   1\\\\\n",
       "\t Group\\_4 & Knife River Flint     &   1\\\\\n",
       "\t Group\\_5 & Knife River Flint     &   4\\\\\n",
       "\t Group\\_1 & Oman Chert            &   0\\\\\n",
       "\t Group\\_2 & Oman Chert            &   3\\\\\n",
       "\t Group\\_3 & Oman Chert            &   0\\\\\n",
       "\t Group\\_4 & Oman Chert            &  13\\\\\n",
       "\t Group\\_5 & Oman Chert            &   5\\\\\n",
       "\\end{tabular}\n"
      ],
      "text/markdown": [
       "\n",
       "A data.frame: 25 × 3\n",
       "\n",
       "| X5 &lt;fct&gt; | vis &lt;fct&gt; | Freq &lt;int&gt; |\n",
       "|---|---|---|\n",
       "| Group_1 | Alibates              |  15 |\n",
       "| Group_2 | Alibates              |   0 |\n",
       "| Group_3 | Alibates              |   2 |\n",
       "| Group_4 | Alibates              |   3 |\n",
       "| Group_5 | Alibates              |   3 |\n",
       "| Group_1 | Edwards Plateau Chert |  46 |\n",
       "| Group_2 | Edwards Plateau Chert |   1 |\n",
       "| Group_3 | Edwards Plateau Chert |   0 |\n",
       "| Group_4 | Edwards Plateau Chert |  11 |\n",
       "| Group_5 | Edwards Plateau Chert |  14 |\n",
       "| Group_1 | El Sauz Chert         |   0 |\n",
       "| Group_2 | El Sauz Chert         |   0 |\n",
       "| Group_3 | El Sauz Chert         | 212 |\n",
       "| Group_4 | El Sauz Chert         |  63 |\n",
       "| Group_5 | El Sauz Chert         |   0 |\n",
       "| Group_1 | Knife River Flint     |   4 |\n",
       "| Group_2 | Knife River Flint     |   2 |\n",
       "| Group_3 | Knife River Flint     |   1 |\n",
       "| Group_4 | Knife River Flint     |   1 |\n",
       "| Group_5 | Knife River Flint     |   4 |\n",
       "| Group_1 | Oman Chert            |   0 |\n",
       "| Group_2 | Oman Chert            |   3 |\n",
       "| Group_3 | Oman Chert            |   0 |\n",
       "| Group_4 | Oman Chert            |  13 |\n",
       "| Group_5 | Oman Chert            |   5 |\n",
       "\n"
      ],
      "text/plain": [
       "   X5      vis                   Freq\n",
       "1  Group_1 Alibates               15 \n",
       "2  Group_2 Alibates                0 \n",
       "3  Group_3 Alibates                2 \n",
       "4  Group_4 Alibates                3 \n",
       "5  Group_5 Alibates                3 \n",
       "6  Group_1 Edwards Plateau Chert  46 \n",
       "7  Group_2 Edwards Plateau Chert   1 \n",
       "8  Group_3 Edwards Plateau Chert   0 \n",
       "9  Group_4 Edwards Plateau Chert  11 \n",
       "10 Group_5 Edwards Plateau Chert  14 \n",
       "11 Group_1 El Sauz Chert           0 \n",
       "12 Group_2 El Sauz Chert           0 \n",
       "13 Group_3 El Sauz Chert         212 \n",
       "14 Group_4 El Sauz Chert          63 \n",
       "15 Group_5 El Sauz Chert           0 \n",
       "16 Group_1 Knife River Flint       4 \n",
       "17 Group_2 Knife River Flint       2 \n",
       "18 Group_3 Knife River Flint       1 \n",
       "19 Group_4 Knife River Flint       1 \n",
       "20 Group_5 Knife River Flint       4 \n",
       "21 Group_1 Oman Chert              0 \n",
       "22 Group_2 Oman Chert              3 \n",
       "23 Group_3 Oman Chert              0 \n",
       "24 Group_4 Oman Chert             13 \n",
       "25 Group_5 Oman Chert              5 "
      ]
     },
     "metadata": {},
     "output_type": "display_data"
    }
   ],
   "source": [
    "# Assign the appropriate labels to each of the Groups\n",
    "# first add the vis & is_known columns back in\n",
    "gmm$is_known <- train$is_known\n",
    "gmm$vis <- train$Vis\n",
    "# then create an ftable with the sums of each of the known labels\n",
    "gmm_raw <- gmm[gmm$is_known == \"Known\",c(4,6)]\n",
    "gmm_raw <- ftable(gmm_raw[])\n",
    "gmm_raw <- as.data.frame(gmm_raw)\n",
    "gmm_raw"
   ]
  },
  {
   "cell_type": "code",
   "execution_count": 10,
   "metadata": {},
   "outputs": [
    {
     "data": {
      "text/html": [
       "<table>\n",
       "<caption>A data.frame: 40 × 3</caption>\n",
       "<thead>\n",
       "\t<tr><th scope=col>X5</th><th scope=col>vis</th><th scope=col>Freq</th></tr>\n",
       "\t<tr><th scope=col>&lt;fct&gt;</th><th scope=col>&lt;fct&gt;</th><th scope=col>&lt;int&gt;</th></tr>\n",
       "</thead>\n",
       "<tbody>\n",
       "\t<tr><td>Group_1</td><td>Agate            </td><td> 33</td></tr>\n",
       "\t<tr><td>Group_2</td><td>Agate            </td><td>  0</td></tr>\n",
       "\t<tr><td>Group_3</td><td>Agate            </td><td>  3</td></tr>\n",
       "\t<tr><td>Group_4</td><td>Agate            </td><td>  8</td></tr>\n",
       "\t<tr><td>Group_5</td><td>Agate            </td><td>  6</td></tr>\n",
       "\t<tr><td>Group_1</td><td>Alibates         </td><td>  2</td></tr>\n",
       "\t<tr><td>Group_2</td><td>Alibates         </td><td>  0</td></tr>\n",
       "\t<tr><td>Group_3</td><td>Alibates         </td><td>  0</td></tr>\n",
       "\t<tr><td>Group_4</td><td>Alibates         </td><td>  1</td></tr>\n",
       "\t<tr><td>Group_5</td><td>Alibates         </td><td>  0</td></tr>\n",
       "\t<tr><td>Group_1</td><td>Black Cherts     </td><td>  2</td></tr>\n",
       "\t<tr><td>Group_2</td><td>Black Cherts     </td><td>  1</td></tr>\n",
       "\t<tr><td>Group_3</td><td>Black Cherts     </td><td>  1</td></tr>\n",
       "\t<tr><td>Group_4</td><td>Black Cherts     </td><td>  0</td></tr>\n",
       "\t<tr><td>Group_5</td><td>Black Cherts     </td><td> 10</td></tr>\n",
       "\t<tr><td>Group_1</td><td>Black Metamorphic</td><td>  9</td></tr>\n",
       "\t<tr><td>Group_2</td><td>Black Metamorphic</td><td>  5</td></tr>\n",
       "\t<tr><td>Group_3</td><td>Black Metamorphic</td><td>  1</td></tr>\n",
       "\t<tr><td>Group_4</td><td>Black Metamorphic</td><td>  7</td></tr>\n",
       "\t<tr><td>Group_5</td><td>Black Metamorphic</td><td> 28</td></tr>\n",
       "\t<tr><td>Group_1</td><td>El Sauz Chert    </td><td>  1</td></tr>\n",
       "\t<tr><td>Group_2</td><td>El Sauz Chert    </td><td>  2</td></tr>\n",
       "\t<tr><td>Group_3</td><td>El Sauz Chert    </td><td> 38</td></tr>\n",
       "\t<tr><td>Group_4</td><td>El Sauz Chert    </td><td> 12</td></tr>\n",
       "\t<tr><td>Group_5</td><td>El Sauz Chert    </td><td>  0</td></tr>\n",
       "\t<tr><td>Group_1</td><td>Gravel Cherts    </td><td>374</td></tr>\n",
       "\t<tr><td>Group_2</td><td>Gravel Cherts    </td><td> 17</td></tr>\n",
       "\t<tr><td>Group_3</td><td>Gravel Cherts    </td><td> 12</td></tr>\n",
       "\t<tr><td>Group_4</td><td>Gravel Cherts    </td><td> 26</td></tr>\n",
       "\t<tr><td>Group_5</td><td>Gravel Cherts    </td><td>101</td></tr>\n",
       "\t<tr><td>Group_1</td><td>Undiff. igneous  </td><td>  2</td></tr>\n",
       "\t<tr><td>Group_2</td><td>Undiff. igneous  </td><td> 15</td></tr>\n",
       "\t<tr><td>Group_3</td><td>Undiff. igneous  </td><td>  1</td></tr>\n",
       "\t<tr><td>Group_4</td><td>Undiff. igneous  </td><td>  6</td></tr>\n",
       "\t<tr><td>Group_5</td><td>Undiff. igneous  </td><td>  7</td></tr>\n",
       "\t<tr><td>Group_1</td><td>Unk              </td><td> 16</td></tr>\n",
       "\t<tr><td>Group_2</td><td>Unk              </td><td>  5</td></tr>\n",
       "\t<tr><td>Group_3</td><td>Unk              </td><td>  1</td></tr>\n",
       "\t<tr><td>Group_4</td><td>Unk              </td><td>  2</td></tr>\n",
       "\t<tr><td>Group_5</td><td>Unk              </td><td>  8</td></tr>\n",
       "</tbody>\n",
       "</table>\n"
      ],
      "text/latex": [
       "A data.frame: 40 × 3\n",
       "\\begin{tabular}{lll}\n",
       " X5 & vis & Freq\\\\\n",
       " <fct> & <fct> & <int>\\\\\n",
       "\\hline\n",
       "\t Group\\_1 & Agate             &  33\\\\\n",
       "\t Group\\_2 & Agate             &   0\\\\\n",
       "\t Group\\_3 & Agate             &   3\\\\\n",
       "\t Group\\_4 & Agate             &   8\\\\\n",
       "\t Group\\_5 & Agate             &   6\\\\\n",
       "\t Group\\_1 & Alibates          &   2\\\\\n",
       "\t Group\\_2 & Alibates          &   0\\\\\n",
       "\t Group\\_3 & Alibates          &   0\\\\\n",
       "\t Group\\_4 & Alibates          &   1\\\\\n",
       "\t Group\\_5 & Alibates          &   0\\\\\n",
       "\t Group\\_1 & Black Cherts      &   2\\\\\n",
       "\t Group\\_2 & Black Cherts      &   1\\\\\n",
       "\t Group\\_3 & Black Cherts      &   1\\\\\n",
       "\t Group\\_4 & Black Cherts      &   0\\\\\n",
       "\t Group\\_5 & Black Cherts      &  10\\\\\n",
       "\t Group\\_1 & Black Metamorphic &   9\\\\\n",
       "\t Group\\_2 & Black Metamorphic &   5\\\\\n",
       "\t Group\\_3 & Black Metamorphic &   1\\\\\n",
       "\t Group\\_4 & Black Metamorphic &   7\\\\\n",
       "\t Group\\_5 & Black Metamorphic &  28\\\\\n",
       "\t Group\\_1 & El Sauz Chert     &   1\\\\\n",
       "\t Group\\_2 & El Sauz Chert     &   2\\\\\n",
       "\t Group\\_3 & El Sauz Chert     &  38\\\\\n",
       "\t Group\\_4 & El Sauz Chert     &  12\\\\\n",
       "\t Group\\_5 & El Sauz Chert     &   0\\\\\n",
       "\t Group\\_1 & Gravel Cherts     & 374\\\\\n",
       "\t Group\\_2 & Gravel Cherts     &  17\\\\\n",
       "\t Group\\_3 & Gravel Cherts     &  12\\\\\n",
       "\t Group\\_4 & Gravel Cherts     &  26\\\\\n",
       "\t Group\\_5 & Gravel Cherts     & 101\\\\\n",
       "\t Group\\_1 & Undiff. igneous   &   2\\\\\n",
       "\t Group\\_2 & Undiff. igneous   &  15\\\\\n",
       "\t Group\\_3 & Undiff. igneous   &   1\\\\\n",
       "\t Group\\_4 & Undiff. igneous   &   6\\\\\n",
       "\t Group\\_5 & Undiff. igneous   &   7\\\\\n",
       "\t Group\\_1 & Unk               &  16\\\\\n",
       "\t Group\\_2 & Unk               &   5\\\\\n",
       "\t Group\\_3 & Unk               &   1\\\\\n",
       "\t Group\\_4 & Unk               &   2\\\\\n",
       "\t Group\\_5 & Unk               &   8\\\\\n",
       "\\end{tabular}\n"
      ],
      "text/markdown": [
       "\n",
       "A data.frame: 40 × 3\n",
       "\n",
       "| X5 &lt;fct&gt; | vis &lt;fct&gt; | Freq &lt;int&gt; |\n",
       "|---|---|---|\n",
       "| Group_1 | Agate             |  33 |\n",
       "| Group_2 | Agate             |   0 |\n",
       "| Group_3 | Agate             |   3 |\n",
       "| Group_4 | Agate             |   8 |\n",
       "| Group_5 | Agate             |   6 |\n",
       "| Group_1 | Alibates          |   2 |\n",
       "| Group_2 | Alibates          |   0 |\n",
       "| Group_3 | Alibates          |   0 |\n",
       "| Group_4 | Alibates          |   1 |\n",
       "| Group_5 | Alibates          |   0 |\n",
       "| Group_1 | Black Cherts      |   2 |\n",
       "| Group_2 | Black Cherts      |   1 |\n",
       "| Group_3 | Black Cherts      |   1 |\n",
       "| Group_4 | Black Cherts      |   0 |\n",
       "| Group_5 | Black Cherts      |  10 |\n",
       "| Group_1 | Black Metamorphic |   9 |\n",
       "| Group_2 | Black Metamorphic |   5 |\n",
       "| Group_3 | Black Metamorphic |   1 |\n",
       "| Group_4 | Black Metamorphic |   7 |\n",
       "| Group_5 | Black Metamorphic |  28 |\n",
       "| Group_1 | El Sauz Chert     |   1 |\n",
       "| Group_2 | El Sauz Chert     |   2 |\n",
       "| Group_3 | El Sauz Chert     |  38 |\n",
       "| Group_4 | El Sauz Chert     |  12 |\n",
       "| Group_5 | El Sauz Chert     |   0 |\n",
       "| Group_1 | Gravel Cherts     | 374 |\n",
       "| Group_2 | Gravel Cherts     |  17 |\n",
       "| Group_3 | Gravel Cherts     |  12 |\n",
       "| Group_4 | Gravel Cherts     |  26 |\n",
       "| Group_5 | Gravel Cherts     | 101 |\n",
       "| Group_1 | Undiff. igneous   |   2 |\n",
       "| Group_2 | Undiff. igneous   |  15 |\n",
       "| Group_3 | Undiff. igneous   |   1 |\n",
       "| Group_4 | Undiff. igneous   |   6 |\n",
       "| Group_5 | Undiff. igneous   |   7 |\n",
       "| Group_1 | Unk               |  16 |\n",
       "| Group_2 | Unk               |   5 |\n",
       "| Group_3 | Unk               |   1 |\n",
       "| Group_4 | Unk               |   2 |\n",
       "| Group_5 | Unk               |   8 |\n",
       "\n"
      ],
      "text/plain": [
       "   X5      vis               Freq\n",
       "1  Group_1 Agate              33 \n",
       "2  Group_2 Agate               0 \n",
       "3  Group_3 Agate               3 \n",
       "4  Group_4 Agate               8 \n",
       "5  Group_5 Agate               6 \n",
       "6  Group_1 Alibates            2 \n",
       "7  Group_2 Alibates            0 \n",
       "8  Group_3 Alibates            0 \n",
       "9  Group_4 Alibates            1 \n",
       "10 Group_5 Alibates            0 \n",
       "11 Group_1 Black Cherts        2 \n",
       "12 Group_2 Black Cherts        1 \n",
       "13 Group_3 Black Cherts        1 \n",
       "14 Group_4 Black Cherts        0 \n",
       "15 Group_5 Black Cherts       10 \n",
       "16 Group_1 Black Metamorphic   9 \n",
       "17 Group_2 Black Metamorphic   5 \n",
       "18 Group_3 Black Metamorphic   1 \n",
       "19 Group_4 Black Metamorphic   7 \n",
       "20 Group_5 Black Metamorphic  28 \n",
       "21 Group_1 El Sauz Chert       1 \n",
       "22 Group_2 El Sauz Chert       2 \n",
       "23 Group_3 El Sauz Chert      38 \n",
       "24 Group_4 El Sauz Chert      12 \n",
       "25 Group_5 El Sauz Chert       0 \n",
       "26 Group_1 Gravel Cherts     374 \n",
       "27 Group_2 Gravel Cherts      17 \n",
       "28 Group_3 Gravel Cherts      12 \n",
       "29 Group_4 Gravel Cherts      26 \n",
       "30 Group_5 Gravel Cherts     101 \n",
       "31 Group_1 Undiff. igneous     2 \n",
       "32 Group_2 Undiff. igneous    15 \n",
       "33 Group_3 Undiff. igneous     1 \n",
       "34 Group_4 Undiff. igneous     6 \n",
       "35 Group_5 Undiff. igneous     7 \n",
       "36 Group_1 Unk                16 \n",
       "37 Group_2 Unk                 5 \n",
       "38 Group_3 Unk                 1 \n",
       "39 Group_4 Unk                 2 \n",
       "40 Group_5 Unk                 8 "
      ]
     },
     "metadata": {},
     "output_type": "display_data"
    }
   ],
   "source": [
    "gmm_art <- gmm[gmm$is_known != \"Known\",c(4,6)]\n",
    "gmm_art <- ftable(gmm_art[])\n",
    "gmm_art <- as.data.frame(gmm_art)\n",
    "gmm_art"
   ]
  },
  {
   "cell_type": "code",
   "execution_count": 11,
   "metadata": {},
   "outputs": [
    {
     "data": {
      "text/html": [
       "<table>\n",
       "<caption>A data.frame: 6 × 31</caption>\n",
       "<thead>\n",
       "\t<tr><th></th><th scope=col>sample_id</th><th scope=col>is_known</th><th scope=col>Vis</th><th scope=col>Ag.Rh</th><th scope=col>Al.Rh</th><th scope=col>As.Rh</th><th scope=col>Au.Rh</th><th scope=col>Ca.Rh</th><th scope=col>Cu.Rh</th><th scope=col>Fe.Rh</th><th scope=col>⋯</th><th scope=col>Sn.Rh</th><th scope=col>Sr.Rh</th><th scope=col>Th.Rh</th><th scope=col>Ti.Rh</th><th scope=col>U.Rh</th><th scope=col>V.Rh</th><th scope=col>Y.Rh</th><th scope=col>Zn.Rh</th><th scope=col>Zr.Rh</th><th scope=col>gmm_label</th></tr>\n",
       "\t<tr><th></th><th scope=col>&lt;chr&gt;</th><th scope=col>&lt;chr&gt;</th><th scope=col>&lt;chr&gt;</th><th scope=col>&lt;dbl&gt;</th><th scope=col>&lt;dbl&gt;</th><th scope=col>&lt;dbl&gt;</th><th scope=col>&lt;dbl&gt;</th><th scope=col>&lt;dbl&gt;</th><th scope=col>&lt;dbl&gt;</th><th scope=col>&lt;dbl&gt;</th><th scope=col>⋯</th><th scope=col>&lt;dbl&gt;</th><th scope=col>&lt;dbl&gt;</th><th scope=col>&lt;dbl&gt;</th><th scope=col>&lt;dbl&gt;</th><th scope=col>&lt;dbl&gt;</th><th scope=col>&lt;dbl&gt;</th><th scope=col>&lt;dbl&gt;</th><th scope=col>&lt;dbl&gt;</th><th scope=col>&lt;dbl&gt;</th><th scope=col>&lt;chr&gt;</th></tr>\n",
       "</thead>\n",
       "<tbody>\n",
       "\t<tr><th scope=row>1</th><td>71.11.1-89.01</td><td>Guess</td><td>Gravel Cherts</td><td>0.10581683</td><td>0.000077400</td><td>7.740000e-09</td><td>0.004176980</td><td>0.11718750</td><td>0.02560334</td><td>0.4126702</td><td>⋯</td><td>0.030244431</td><td>0.13691213</td><td>2.328280e-02</td><td>0.015702351</td><td>0.027769183</td><td>0.005491955</td><td>0.003635520</td><td>0.090423886</td><td>7.740000e-09</td><td>Group_5</td></tr>\n",
       "\t<tr><th scope=row>2</th><td>71.11.1-89.02</td><td>Guess</td><td>Gravel Cherts</td><td>0.10531120</td><td>0.001244813</td><td>4.564315e-03</td><td>0.002074689</td><td>0.05659751</td><td>0.02489627</td><td>0.2215768</td><td>⋯</td><td>0.019170124</td><td>0.18995851</td><td>1.294606e-02</td><td>0.013609959</td><td>0.016431535</td><td>0.006887967</td><td>0.000083000</td><td>0.071867220</td><td>8.300000e-09</td><td>Group_5</td></tr>\n",
       "\t<tr><th scope=row>3</th><td>71.11.1-89.03</td><td>Guess</td><td>Gravel Cherts</td><td>0.09514864</td><td>0.002613525</td><td>3.266910e-04</td><td>0.003756942</td><td>0.04957530</td><td>0.04271480</td><td>0.4997550</td><td>⋯</td><td>0.010944136</td><td>0.09882391</td><td>7.350539e-03</td><td>0.018703038</td><td>0.008330611</td><td>0.005308723</td><td>0.004573669</td><td>0.039692911</td><td>2.531852e-03</td><td>Group_1</td></tr>\n",
       "\t<tr><th scope=row>4</th><td>71.11.1-89.04</td><td>Guess</td><td>Gravel Cherts</td><td>0.10741751</td><td>0.003307699</td><td>3.473084e-03</td><td>0.003721161</td><td>0.02795005</td><td>0.03390391</td><td>0.4388489</td><td>⋯</td><td>0.010667328</td><td>0.04589432</td><td>1.174233e-02</td><td>0.021582734</td><td>0.024559663</td><td>0.001901927</td><td>0.011080791</td><td>0.032746217</td><td>4.796163e-03</td><td>Group_1</td></tr>\n",
       "\t<tr><th scope=row>5</th><td>71.11.1-89.05</td><td>Guess</td><td>Gravel Cherts</td><td>0.13916694</td><td>0.002825315</td><td>8.070000e-09</td><td>0.004116887</td><td>0.01622538</td><td>0.02429771</td><td>0.1408621</td><td>⋯</td><td>0.002502422</td><td>0.08411366</td><td>6.780756e-03</td><td>0.010251857</td><td>0.010494026</td><td>0.005247013</td><td>0.012431385</td><td>0.009283177</td><td>8.070000e-09</td><td>Group_1</td></tr>\n",
       "\t<tr><th scope=row>6</th><td>71.11.1-89.06</td><td>Guess</td><td>Gravel Cherts</td><td>0.09852139</td><td>0.010990749</td><td>1.257215e-02</td><td>0.001423262</td><td>0.01486518</td><td>0.02308848</td><td>0.3841227</td><td>⋯</td><td>0.009646556</td><td>0.09575393</td><td>7.910000e-09</td><td>0.008381434</td><td>0.006167471</td><td>0.001897683</td><td>0.000079100</td><td>0.014627975</td><td>5.851190e-03</td><td>Group_1</td></tr>\n",
       "</tbody>\n",
       "</table>\n"
      ],
      "text/latex": [
       "A data.frame: 6 × 31\n",
       "\\begin{tabular}{r|lllllllllllllllllllll}\n",
       "  & sample\\_id & is\\_known & Vis & Ag.Rh & Al.Rh & As.Rh & Au.Rh & Ca.Rh & Cu.Rh & Fe.Rh & ⋯ & Sn.Rh & Sr.Rh & Th.Rh & Ti.Rh & U.Rh & V.Rh & Y.Rh & Zn.Rh & Zr.Rh & gmm\\_label\\\\\n",
       "  & <chr> & <chr> & <chr> & <dbl> & <dbl> & <dbl> & <dbl> & <dbl> & <dbl> & <dbl> & ⋯ & <dbl> & <dbl> & <dbl> & <dbl> & <dbl> & <dbl> & <dbl> & <dbl> & <dbl> & <chr>\\\\\n",
       "\\hline\n",
       "\t1 & 71.11.1-89.01 & Guess & Gravel Cherts & 0.10581683 & 0.000077400 & 7.740000e-09 & 0.004176980 & 0.11718750 & 0.02560334 & 0.4126702 & ⋯ & 0.030244431 & 0.13691213 & 2.328280e-02 & 0.015702351 & 0.027769183 & 0.005491955 & 0.003635520 & 0.090423886 & 7.740000e-09 & Group\\_5\\\\\n",
       "\t2 & 71.11.1-89.02 & Guess & Gravel Cherts & 0.10531120 & 0.001244813 & 4.564315e-03 & 0.002074689 & 0.05659751 & 0.02489627 & 0.2215768 & ⋯ & 0.019170124 & 0.18995851 & 1.294606e-02 & 0.013609959 & 0.016431535 & 0.006887967 & 0.000083000 & 0.071867220 & 8.300000e-09 & Group\\_5\\\\\n",
       "\t3 & 71.11.1-89.03 & Guess & Gravel Cherts & 0.09514864 & 0.002613525 & 3.266910e-04 & 0.003756942 & 0.04957530 & 0.04271480 & 0.4997550 & ⋯ & 0.010944136 & 0.09882391 & 7.350539e-03 & 0.018703038 & 0.008330611 & 0.005308723 & 0.004573669 & 0.039692911 & 2.531852e-03 & Group\\_1\\\\\n",
       "\t4 & 71.11.1-89.04 & Guess & Gravel Cherts & 0.10741751 & 0.003307699 & 3.473084e-03 & 0.003721161 & 0.02795005 & 0.03390391 & 0.4388489 & ⋯ & 0.010667328 & 0.04589432 & 1.174233e-02 & 0.021582734 & 0.024559663 & 0.001901927 & 0.011080791 & 0.032746217 & 4.796163e-03 & Group\\_1\\\\\n",
       "\t5 & 71.11.1-89.05 & Guess & Gravel Cherts & 0.13916694 & 0.002825315 & 8.070000e-09 & 0.004116887 & 0.01622538 & 0.02429771 & 0.1408621 & ⋯ & 0.002502422 & 0.08411366 & 6.780756e-03 & 0.010251857 & 0.010494026 & 0.005247013 & 0.012431385 & 0.009283177 & 8.070000e-09 & Group\\_1\\\\\n",
       "\t6 & 71.11.1-89.06 & Guess & Gravel Cherts & 0.09852139 & 0.010990749 & 1.257215e-02 & 0.001423262 & 0.01486518 & 0.02308848 & 0.3841227 & ⋯ & 0.009646556 & 0.09575393 & 7.910000e-09 & 0.008381434 & 0.006167471 & 0.001897683 & 0.000079100 & 0.014627975 & 5.851190e-03 & Group\\_1\\\\\n",
       "\\end{tabular}\n"
      ],
      "text/markdown": [
       "\n",
       "A data.frame: 6 × 31\n",
       "\n",
       "| <!--/--> | sample_id &lt;chr&gt; | is_known &lt;chr&gt; | Vis &lt;chr&gt; | Ag.Rh &lt;dbl&gt; | Al.Rh &lt;dbl&gt; | As.Rh &lt;dbl&gt; | Au.Rh &lt;dbl&gt; | Ca.Rh &lt;dbl&gt; | Cu.Rh &lt;dbl&gt; | Fe.Rh &lt;dbl&gt; | ⋯ ⋯ | Sn.Rh &lt;dbl&gt; | Sr.Rh &lt;dbl&gt; | Th.Rh &lt;dbl&gt; | Ti.Rh &lt;dbl&gt; | U.Rh &lt;dbl&gt; | V.Rh &lt;dbl&gt; | Y.Rh &lt;dbl&gt; | Zn.Rh &lt;dbl&gt; | Zr.Rh &lt;dbl&gt; | gmm_label &lt;chr&gt; |\n",
       "|---|---|---|---|---|---|---|---|---|---|---|---|---|---|---|---|---|---|---|---|---|---|\n",
       "| 1 | 71.11.1-89.01 | Guess | Gravel Cherts | 0.10581683 | 0.000077400 | 7.740000e-09 | 0.004176980 | 0.11718750 | 0.02560334 | 0.4126702 | ⋯ | 0.030244431 | 0.13691213 | 2.328280e-02 | 0.015702351 | 0.027769183 | 0.005491955 | 0.003635520 | 0.090423886 | 7.740000e-09 | Group_5 |\n",
       "| 2 | 71.11.1-89.02 | Guess | Gravel Cherts | 0.10531120 | 0.001244813 | 4.564315e-03 | 0.002074689 | 0.05659751 | 0.02489627 | 0.2215768 | ⋯ | 0.019170124 | 0.18995851 | 1.294606e-02 | 0.013609959 | 0.016431535 | 0.006887967 | 0.000083000 | 0.071867220 | 8.300000e-09 | Group_5 |\n",
       "| 3 | 71.11.1-89.03 | Guess | Gravel Cherts | 0.09514864 | 0.002613525 | 3.266910e-04 | 0.003756942 | 0.04957530 | 0.04271480 | 0.4997550 | ⋯ | 0.010944136 | 0.09882391 | 7.350539e-03 | 0.018703038 | 0.008330611 | 0.005308723 | 0.004573669 | 0.039692911 | 2.531852e-03 | Group_1 |\n",
       "| 4 | 71.11.1-89.04 | Guess | Gravel Cherts | 0.10741751 | 0.003307699 | 3.473084e-03 | 0.003721161 | 0.02795005 | 0.03390391 | 0.4388489 | ⋯ | 0.010667328 | 0.04589432 | 1.174233e-02 | 0.021582734 | 0.024559663 | 0.001901927 | 0.011080791 | 0.032746217 | 4.796163e-03 | Group_1 |\n",
       "| 5 | 71.11.1-89.05 | Guess | Gravel Cherts | 0.13916694 | 0.002825315 | 8.070000e-09 | 0.004116887 | 0.01622538 | 0.02429771 | 0.1408621 | ⋯ | 0.002502422 | 0.08411366 | 6.780756e-03 | 0.010251857 | 0.010494026 | 0.005247013 | 0.012431385 | 0.009283177 | 8.070000e-09 | Group_1 |\n",
       "| 6 | 71.11.1-89.06 | Guess | Gravel Cherts | 0.09852139 | 0.010990749 | 1.257215e-02 | 0.001423262 | 0.01486518 | 0.02308848 | 0.3841227 | ⋯ | 0.009646556 | 0.09575393 | 7.910000e-09 | 0.008381434 | 0.006167471 | 0.001897683 | 0.000079100 | 0.014627975 | 5.851190e-03 | Group_1 |\n",
       "\n"
      ],
      "text/plain": [
       "  sample_id     is_known Vis           Ag.Rh      Al.Rh       As.Rh       \n",
       "1 71.11.1-89.01 Guess    Gravel Cherts 0.10581683 0.000077400 7.740000e-09\n",
       "2 71.11.1-89.02 Guess    Gravel Cherts 0.10531120 0.001244813 4.564315e-03\n",
       "3 71.11.1-89.03 Guess    Gravel Cherts 0.09514864 0.002613525 3.266910e-04\n",
       "4 71.11.1-89.04 Guess    Gravel Cherts 0.10741751 0.003307699 3.473084e-03\n",
       "5 71.11.1-89.05 Guess    Gravel Cherts 0.13916694 0.002825315 8.070000e-09\n",
       "6 71.11.1-89.06 Guess    Gravel Cherts 0.09852139 0.010990749 1.257215e-02\n",
       "  Au.Rh       Ca.Rh      Cu.Rh      Fe.Rh     ⋯ Sn.Rh       Sr.Rh     \n",
       "1 0.004176980 0.11718750 0.02560334 0.4126702 ⋯ 0.030244431 0.13691213\n",
       "2 0.002074689 0.05659751 0.02489627 0.2215768 ⋯ 0.019170124 0.18995851\n",
       "3 0.003756942 0.04957530 0.04271480 0.4997550 ⋯ 0.010944136 0.09882391\n",
       "4 0.003721161 0.02795005 0.03390391 0.4388489 ⋯ 0.010667328 0.04589432\n",
       "5 0.004116887 0.01622538 0.02429771 0.1408621 ⋯ 0.002502422 0.08411366\n",
       "6 0.001423262 0.01486518 0.02308848 0.3841227 ⋯ 0.009646556 0.09575393\n",
       "  Th.Rh        Ti.Rh       U.Rh        V.Rh        Y.Rh        Zn.Rh      \n",
       "1 2.328280e-02 0.015702351 0.027769183 0.005491955 0.003635520 0.090423886\n",
       "2 1.294606e-02 0.013609959 0.016431535 0.006887967 0.000083000 0.071867220\n",
       "3 7.350539e-03 0.018703038 0.008330611 0.005308723 0.004573669 0.039692911\n",
       "4 1.174233e-02 0.021582734 0.024559663 0.001901927 0.011080791 0.032746217\n",
       "5 6.780756e-03 0.010251857 0.010494026 0.005247013 0.012431385 0.009283177\n",
       "6 7.910000e-09 0.008381434 0.006167471 0.001897683 0.000079100 0.014627975\n",
       "  Zr.Rh        gmm_label\n",
       "1 7.740000e-09 Group_5  \n",
       "2 8.300000e-09 Group_5  \n",
       "3 2.531852e-03 Group_1  \n",
       "4 4.796163e-03 Group_1  \n",
       "5 8.070000e-09 Group_1  \n",
       "6 5.851190e-03 Group_1  "
      ]
     },
     "metadata": {},
     "output_type": "display_data"
    }
   ],
   "source": [
    "# add the results back into the train_df\n",
    "train_df$gmm_label <- gmm[,4]\n",
    "head(train_df)"
   ]
  },
  {
   "cell_type": "code",
   "execution_count": 12,
   "metadata": {},
   "outputs": [
    {
     "data": {
      "text/html": [
       "<table>\n",
       "<caption>A data.frame: 6 × 31</caption>\n",
       "<thead>\n",
       "\t<tr><th></th><th scope=col>sample_id</th><th scope=col>is_known</th><th scope=col>Vis</th><th scope=col>Ag.Rh</th><th scope=col>Al.Rh</th><th scope=col>As.Rh</th><th scope=col>Au.Rh</th><th scope=col>Ca.Rh</th><th scope=col>Cu.Rh</th><th scope=col>Fe.Rh</th><th scope=col>⋯</th><th scope=col>Sn.Rh</th><th scope=col>Sr.Rh</th><th scope=col>Th.Rh</th><th scope=col>Ti.Rh</th><th scope=col>U.Rh</th><th scope=col>V.Rh</th><th scope=col>Y.Rh</th><th scope=col>Zn.Rh</th><th scope=col>Zr.Rh</th><th scope=col>gmm_label</th></tr>\n",
       "\t<tr><th></th><th scope=col>&lt;chr&gt;</th><th scope=col>&lt;chr&gt;</th><th scope=col>&lt;chr&gt;</th><th scope=col>&lt;dbl&gt;</th><th scope=col>&lt;dbl&gt;</th><th scope=col>&lt;dbl&gt;</th><th scope=col>&lt;dbl&gt;</th><th scope=col>&lt;dbl&gt;</th><th scope=col>&lt;dbl&gt;</th><th scope=col>&lt;dbl&gt;</th><th scope=col>⋯</th><th scope=col>&lt;dbl&gt;</th><th scope=col>&lt;dbl&gt;</th><th scope=col>&lt;dbl&gt;</th><th scope=col>&lt;dbl&gt;</th><th scope=col>&lt;dbl&gt;</th><th scope=col>&lt;dbl&gt;</th><th scope=col>&lt;dbl&gt;</th><th scope=col>&lt;dbl&gt;</th><th scope=col>&lt;dbl&gt;</th><th scope=col>&lt;chr&gt;</th></tr>\n",
       "</thead>\n",
       "<tbody>\n",
       "\t<tr><th scope=row>1</th><td>71.11.1-89.01</td><td>Guess</td><td>Gravel Cherts</td><td>0.10581683</td><td>0.000077400</td><td>7.740000e-09</td><td>0.004176980</td><td>0.11718750</td><td>0.02560334</td><td>0.4126702</td><td>⋯</td><td>0.030244431</td><td>0.13691213</td><td>2.328280e-02</td><td>0.015702351</td><td>0.027769183</td><td>0.005491955</td><td>0.003635520</td><td>0.090423886</td><td>7.740000e-09</td><td>Chert_2</td></tr>\n",
       "\t<tr><th scope=row>2</th><td>71.11.1-89.02</td><td>Guess</td><td>Gravel Cherts</td><td>0.10531120</td><td>0.001244813</td><td>4.564315e-03</td><td>0.002074689</td><td>0.05659751</td><td>0.02489627</td><td>0.2215768</td><td>⋯</td><td>0.019170124</td><td>0.18995851</td><td>1.294606e-02</td><td>0.013609959</td><td>0.016431535</td><td>0.006887967</td><td>0.000083000</td><td>0.071867220</td><td>8.300000e-09</td><td>Chert_2</td></tr>\n",
       "\t<tr><th scope=row>3</th><td>71.11.1-89.03</td><td>Guess</td><td>Gravel Cherts</td><td>0.09514864</td><td>0.002613525</td><td>3.266910e-04</td><td>0.003756942</td><td>0.04957530</td><td>0.04271480</td><td>0.4997550</td><td>⋯</td><td>0.010944136</td><td>0.09882391</td><td>7.350539e-03</td><td>0.018703038</td><td>0.008330611</td><td>0.005308723</td><td>0.004573669</td><td>0.039692911</td><td>2.531852e-03</td><td>Chert_1</td></tr>\n",
       "\t<tr><th scope=row>4</th><td>71.11.1-89.04</td><td>Guess</td><td>Gravel Cherts</td><td>0.10741751</td><td>0.003307699</td><td>3.473084e-03</td><td>0.003721161</td><td>0.02795005</td><td>0.03390391</td><td>0.4388489</td><td>⋯</td><td>0.010667328</td><td>0.04589432</td><td>1.174233e-02</td><td>0.021582734</td><td>0.024559663</td><td>0.001901927</td><td>0.011080791</td><td>0.032746217</td><td>4.796163e-03</td><td>Chert_1</td></tr>\n",
       "\t<tr><th scope=row>5</th><td>71.11.1-89.05</td><td>Guess</td><td>Gravel Cherts</td><td>0.13916694</td><td>0.002825315</td><td>8.070000e-09</td><td>0.004116887</td><td>0.01622538</td><td>0.02429771</td><td>0.1408621</td><td>⋯</td><td>0.002502422</td><td>0.08411366</td><td>6.780756e-03</td><td>0.010251857</td><td>0.010494026</td><td>0.005247013</td><td>0.012431385</td><td>0.009283177</td><td>8.070000e-09</td><td>Chert_1</td></tr>\n",
       "\t<tr><th scope=row>6</th><td>71.11.1-89.06</td><td>Guess</td><td>Gravel Cherts</td><td>0.09852139</td><td>0.010990749</td><td>1.257215e-02</td><td>0.001423262</td><td>0.01486518</td><td>0.02308848</td><td>0.3841227</td><td>⋯</td><td>0.009646556</td><td>0.09575393</td><td>7.910000e-09</td><td>0.008381434</td><td>0.006167471</td><td>0.001897683</td><td>0.000079100</td><td>0.014627975</td><td>5.851190e-03</td><td>Chert_1</td></tr>\n",
       "</tbody>\n",
       "</table>\n"
      ],
      "text/latex": [
       "A data.frame: 6 × 31\n",
       "\\begin{tabular}{r|lllllllllllllllllllll}\n",
       "  & sample\\_id & is\\_known & Vis & Ag.Rh & Al.Rh & As.Rh & Au.Rh & Ca.Rh & Cu.Rh & Fe.Rh & ⋯ & Sn.Rh & Sr.Rh & Th.Rh & Ti.Rh & U.Rh & V.Rh & Y.Rh & Zn.Rh & Zr.Rh & gmm\\_label\\\\\n",
       "  & <chr> & <chr> & <chr> & <dbl> & <dbl> & <dbl> & <dbl> & <dbl> & <dbl> & <dbl> & ⋯ & <dbl> & <dbl> & <dbl> & <dbl> & <dbl> & <dbl> & <dbl> & <dbl> & <dbl> & <chr>\\\\\n",
       "\\hline\n",
       "\t1 & 71.11.1-89.01 & Guess & Gravel Cherts & 0.10581683 & 0.000077400 & 7.740000e-09 & 0.004176980 & 0.11718750 & 0.02560334 & 0.4126702 & ⋯ & 0.030244431 & 0.13691213 & 2.328280e-02 & 0.015702351 & 0.027769183 & 0.005491955 & 0.003635520 & 0.090423886 & 7.740000e-09 & Chert\\_2\\\\\n",
       "\t2 & 71.11.1-89.02 & Guess & Gravel Cherts & 0.10531120 & 0.001244813 & 4.564315e-03 & 0.002074689 & 0.05659751 & 0.02489627 & 0.2215768 & ⋯ & 0.019170124 & 0.18995851 & 1.294606e-02 & 0.013609959 & 0.016431535 & 0.006887967 & 0.000083000 & 0.071867220 & 8.300000e-09 & Chert\\_2\\\\\n",
       "\t3 & 71.11.1-89.03 & Guess & Gravel Cherts & 0.09514864 & 0.002613525 & 3.266910e-04 & 0.003756942 & 0.04957530 & 0.04271480 & 0.4997550 & ⋯ & 0.010944136 & 0.09882391 & 7.350539e-03 & 0.018703038 & 0.008330611 & 0.005308723 & 0.004573669 & 0.039692911 & 2.531852e-03 & Chert\\_1\\\\\n",
       "\t4 & 71.11.1-89.04 & Guess & Gravel Cherts & 0.10741751 & 0.003307699 & 3.473084e-03 & 0.003721161 & 0.02795005 & 0.03390391 & 0.4388489 & ⋯ & 0.010667328 & 0.04589432 & 1.174233e-02 & 0.021582734 & 0.024559663 & 0.001901927 & 0.011080791 & 0.032746217 & 4.796163e-03 & Chert\\_1\\\\\n",
       "\t5 & 71.11.1-89.05 & Guess & Gravel Cherts & 0.13916694 & 0.002825315 & 8.070000e-09 & 0.004116887 & 0.01622538 & 0.02429771 & 0.1408621 & ⋯ & 0.002502422 & 0.08411366 & 6.780756e-03 & 0.010251857 & 0.010494026 & 0.005247013 & 0.012431385 & 0.009283177 & 8.070000e-09 & Chert\\_1\\\\\n",
       "\t6 & 71.11.1-89.06 & Guess & Gravel Cherts & 0.09852139 & 0.010990749 & 1.257215e-02 & 0.001423262 & 0.01486518 & 0.02308848 & 0.3841227 & ⋯ & 0.009646556 & 0.09575393 & 7.910000e-09 & 0.008381434 & 0.006167471 & 0.001897683 & 0.000079100 & 0.014627975 & 5.851190e-03 & Chert\\_1\\\\\n",
       "\\end{tabular}\n"
      ],
      "text/markdown": [
       "\n",
       "A data.frame: 6 × 31\n",
       "\n",
       "| <!--/--> | sample_id &lt;chr&gt; | is_known &lt;chr&gt; | Vis &lt;chr&gt; | Ag.Rh &lt;dbl&gt; | Al.Rh &lt;dbl&gt; | As.Rh &lt;dbl&gt; | Au.Rh &lt;dbl&gt; | Ca.Rh &lt;dbl&gt; | Cu.Rh &lt;dbl&gt; | Fe.Rh &lt;dbl&gt; | ⋯ ⋯ | Sn.Rh &lt;dbl&gt; | Sr.Rh &lt;dbl&gt; | Th.Rh &lt;dbl&gt; | Ti.Rh &lt;dbl&gt; | U.Rh &lt;dbl&gt; | V.Rh &lt;dbl&gt; | Y.Rh &lt;dbl&gt; | Zn.Rh &lt;dbl&gt; | Zr.Rh &lt;dbl&gt; | gmm_label &lt;chr&gt; |\n",
       "|---|---|---|---|---|---|---|---|---|---|---|---|---|---|---|---|---|---|---|---|---|---|\n",
       "| 1 | 71.11.1-89.01 | Guess | Gravel Cherts | 0.10581683 | 0.000077400 | 7.740000e-09 | 0.004176980 | 0.11718750 | 0.02560334 | 0.4126702 | ⋯ | 0.030244431 | 0.13691213 | 2.328280e-02 | 0.015702351 | 0.027769183 | 0.005491955 | 0.003635520 | 0.090423886 | 7.740000e-09 | Chert_2 |\n",
       "| 2 | 71.11.1-89.02 | Guess | Gravel Cherts | 0.10531120 | 0.001244813 | 4.564315e-03 | 0.002074689 | 0.05659751 | 0.02489627 | 0.2215768 | ⋯ | 0.019170124 | 0.18995851 | 1.294606e-02 | 0.013609959 | 0.016431535 | 0.006887967 | 0.000083000 | 0.071867220 | 8.300000e-09 | Chert_2 |\n",
       "| 3 | 71.11.1-89.03 | Guess | Gravel Cherts | 0.09514864 | 0.002613525 | 3.266910e-04 | 0.003756942 | 0.04957530 | 0.04271480 | 0.4997550 | ⋯ | 0.010944136 | 0.09882391 | 7.350539e-03 | 0.018703038 | 0.008330611 | 0.005308723 | 0.004573669 | 0.039692911 | 2.531852e-03 | Chert_1 |\n",
       "| 4 | 71.11.1-89.04 | Guess | Gravel Cherts | 0.10741751 | 0.003307699 | 3.473084e-03 | 0.003721161 | 0.02795005 | 0.03390391 | 0.4388489 | ⋯ | 0.010667328 | 0.04589432 | 1.174233e-02 | 0.021582734 | 0.024559663 | 0.001901927 | 0.011080791 | 0.032746217 | 4.796163e-03 | Chert_1 |\n",
       "| 5 | 71.11.1-89.05 | Guess | Gravel Cherts | 0.13916694 | 0.002825315 | 8.070000e-09 | 0.004116887 | 0.01622538 | 0.02429771 | 0.1408621 | ⋯ | 0.002502422 | 0.08411366 | 6.780756e-03 | 0.010251857 | 0.010494026 | 0.005247013 | 0.012431385 | 0.009283177 | 8.070000e-09 | Chert_1 |\n",
       "| 6 | 71.11.1-89.06 | Guess | Gravel Cherts | 0.09852139 | 0.010990749 | 1.257215e-02 | 0.001423262 | 0.01486518 | 0.02308848 | 0.3841227 | ⋯ | 0.009646556 | 0.09575393 | 7.910000e-09 | 0.008381434 | 0.006167471 | 0.001897683 | 0.000079100 | 0.014627975 | 5.851190e-03 | Chert_1 |\n",
       "\n"
      ],
      "text/plain": [
       "  sample_id     is_known Vis           Ag.Rh      Al.Rh       As.Rh       \n",
       "1 71.11.1-89.01 Guess    Gravel Cherts 0.10581683 0.000077400 7.740000e-09\n",
       "2 71.11.1-89.02 Guess    Gravel Cherts 0.10531120 0.001244813 4.564315e-03\n",
       "3 71.11.1-89.03 Guess    Gravel Cherts 0.09514864 0.002613525 3.266910e-04\n",
       "4 71.11.1-89.04 Guess    Gravel Cherts 0.10741751 0.003307699 3.473084e-03\n",
       "5 71.11.1-89.05 Guess    Gravel Cherts 0.13916694 0.002825315 8.070000e-09\n",
       "6 71.11.1-89.06 Guess    Gravel Cherts 0.09852139 0.010990749 1.257215e-02\n",
       "  Au.Rh       Ca.Rh      Cu.Rh      Fe.Rh     ⋯ Sn.Rh       Sr.Rh     \n",
       "1 0.004176980 0.11718750 0.02560334 0.4126702 ⋯ 0.030244431 0.13691213\n",
       "2 0.002074689 0.05659751 0.02489627 0.2215768 ⋯ 0.019170124 0.18995851\n",
       "3 0.003756942 0.04957530 0.04271480 0.4997550 ⋯ 0.010944136 0.09882391\n",
       "4 0.003721161 0.02795005 0.03390391 0.4388489 ⋯ 0.010667328 0.04589432\n",
       "5 0.004116887 0.01622538 0.02429771 0.1408621 ⋯ 0.002502422 0.08411366\n",
       "6 0.001423262 0.01486518 0.02308848 0.3841227 ⋯ 0.009646556 0.09575393\n",
       "  Th.Rh        Ti.Rh       U.Rh        V.Rh        Y.Rh        Zn.Rh      \n",
       "1 2.328280e-02 0.015702351 0.027769183 0.005491955 0.003635520 0.090423886\n",
       "2 1.294606e-02 0.013609959 0.016431535 0.006887967 0.000083000 0.071867220\n",
       "3 7.350539e-03 0.018703038 0.008330611 0.005308723 0.004573669 0.039692911\n",
       "4 1.174233e-02 0.021582734 0.024559663 0.001901927 0.011080791 0.032746217\n",
       "5 6.780756e-03 0.010251857 0.010494026 0.005247013 0.012431385 0.009283177\n",
       "6 7.910000e-09 0.008381434 0.006167471 0.001897683 0.000079100 0.014627975\n",
       "  Zr.Rh        gmm_label\n",
       "1 7.740000e-09 Chert_2  \n",
       "2 8.300000e-09 Chert_2  \n",
       "3 2.531852e-03 Chert_1  \n",
       "4 4.796163e-03 Chert_1  \n",
       "5 8.070000e-09 Chert_1  \n",
       "6 5.851190e-03 Chert_1  "
      ]
     },
     "metadata": {},
     "output_type": "display_data"
    }
   ],
   "source": [
    "# Change the labels from Group_n to the appropriate label\n",
    "# known samples retain their labels, guesses get the new labels from the clustering method\n",
    "# excepting the El Sauz CHert labels, because those are not actually guesses, we know them to be ESC because of their characteristics\n",
    "\n",
    "train_df$gmm_label[train_df$is_known == \"Known\" & train_df$Vis == \"El Sauz Chert\"] <- \"ESC\"\n",
    "train_df$gmm_label[train_df$is_known == \"Known\" & train_df$Vis == \"Oman Chert\"] <- \"Oman\"\n",
    "train_df$gmm_label[train_df$is_known == \"Known\" & train_df$Vis == \"Edwards Plateau Chert\"] <- \"EPC\"\n",
    "train_df$gmm_label[train_df$is_known == \"Known\" & train_df$Vis == \"Knife River Flint\"] <- \"KRF\"\n",
    "train_df$gmm_label[train_df$is_known == \"Known\" & train_df$Vis == \"Alibates\"] <- \"Alibates\"\n",
    "train_df$gmm_label[train_df$is_known == \"Guess\" & train_df$Vis == \"El Sauz Chert\"] <- \"ESC\"\n",
    "train_df$gmm_label[train_df$is_known == \"Guess\" & train_df$gmm_label == \"Group_1\"] <- \"Chert_1\"\n",
    "train_df$gmm_label[train_df$is_known == \"Guess\" & train_df$gmm_label == \"Group_2\"] <- \"Igneous\"\n",
    "train_df$gmm_label[train_df$is_known == \"Guess\" & train_df$gmm_label == \"Group_3\"] <- \"ESC\"\n",
    "train_df$gmm_label[train_df$is_known == \"Guess\" & train_df$gmm_label == \"Group_4\"] <- \"Chert_3\"\n",
    "train_df$gmm_label[train_df$is_known == \"Guess\" & train_df$gmm_label == \"Group_5\"] <- \"Chert_2\"\n",
    "\n",
    "head(train_df)"
   ]
  },
  {
   "cell_type": "markdown",
   "metadata": {},
   "source": [
    "## Random Forests\n",
    "\n",
    "In this section we will create two random forest classifications. The first will be run using the labels generated by visual classification, which we know are not optimal. The second will be built with the labels generated by the clustering algorithm selected in the previous section.\n",
    "\n",
    "1. RF built with vis labels\n",
    "2. RF built with chosen cluster labels"
   ]
  },
  {
   "cell_type": "code",
   "execution_count": 13,
   "metadata": {},
   "outputs": [
    {
     "data": {
      "text/html": [
       "<table>\n",
       "<caption>A data.frame: 6 × 31</caption>\n",
       "<thead>\n",
       "\t<tr><th></th><th scope=col>sample_id</th><th scope=col>is_known</th><th scope=col>Vis</th><th scope=col>Ag.Rh</th><th scope=col>Al.Rh</th><th scope=col>As.Rh</th><th scope=col>Au.Rh</th><th scope=col>Ca.Rh</th><th scope=col>Cu.Rh</th><th scope=col>Fe.Rh</th><th scope=col>⋯</th><th scope=col>Sn.Rh</th><th scope=col>Sr.Rh</th><th scope=col>Th.Rh</th><th scope=col>Ti.Rh</th><th scope=col>U.Rh</th><th scope=col>V.Rh</th><th scope=col>Y.Rh</th><th scope=col>Zn.Rh</th><th scope=col>Zr.Rh</th><th scope=col>gmm_label</th></tr>\n",
       "\t<tr><th></th><th scope=col>&lt;chr&gt;</th><th scope=col>&lt;chr&gt;</th><th scope=col>&lt;chr&gt;</th><th scope=col>&lt;dbl&gt;</th><th scope=col>&lt;dbl&gt;</th><th scope=col>&lt;dbl&gt;</th><th scope=col>&lt;dbl&gt;</th><th scope=col>&lt;dbl&gt;</th><th scope=col>&lt;dbl&gt;</th><th scope=col>&lt;dbl&gt;</th><th scope=col>⋯</th><th scope=col>&lt;dbl&gt;</th><th scope=col>&lt;dbl&gt;</th><th scope=col>&lt;dbl&gt;</th><th scope=col>&lt;dbl&gt;</th><th scope=col>&lt;dbl&gt;</th><th scope=col>&lt;dbl&gt;</th><th scope=col>&lt;dbl&gt;</th><th scope=col>&lt;dbl&gt;</th><th scope=col>&lt;dbl&gt;</th><th scope=col>&lt;chr&gt;</th></tr>\n",
       "</thead>\n",
       "<tbody>\n",
       "\t<tr><th scope=row>1</th><td>71.11.1-89.01</td><td>Guess</td><td>Gravel Cherts</td><td>0.10581683</td><td>0.000077400</td><td>7.740000e-09</td><td>0.004176980</td><td>0.11718750</td><td>0.02560334</td><td>0.4126702</td><td>⋯</td><td>0.030244431</td><td>0.13691213</td><td>2.328280e-02</td><td>0.015702351</td><td>0.027769183</td><td>0.005491955</td><td>0.003635520</td><td>0.090423886</td><td>7.740000e-09</td><td>Chert_2</td></tr>\n",
       "\t<tr><th scope=row>2</th><td>71.11.1-89.02</td><td>Guess</td><td>Gravel Cherts</td><td>0.10531120</td><td>0.001244813</td><td>4.564315e-03</td><td>0.002074689</td><td>0.05659751</td><td>0.02489627</td><td>0.2215768</td><td>⋯</td><td>0.019170124</td><td>0.18995851</td><td>1.294606e-02</td><td>0.013609959</td><td>0.016431535</td><td>0.006887967</td><td>0.000083000</td><td>0.071867220</td><td>8.300000e-09</td><td>Chert_2</td></tr>\n",
       "\t<tr><th scope=row>3</th><td>71.11.1-89.03</td><td>Guess</td><td>Gravel Cherts</td><td>0.09514864</td><td>0.002613525</td><td>3.266910e-04</td><td>0.003756942</td><td>0.04957530</td><td>0.04271480</td><td>0.4997550</td><td>⋯</td><td>0.010944136</td><td>0.09882391</td><td>7.350539e-03</td><td>0.018703038</td><td>0.008330611</td><td>0.005308723</td><td>0.004573669</td><td>0.039692911</td><td>2.531852e-03</td><td>Chert_1</td></tr>\n",
       "\t<tr><th scope=row>5</th><td>71.11.1-89.05</td><td>Guess</td><td>Gravel Cherts</td><td>0.13916694</td><td>0.002825315</td><td>8.070000e-09</td><td>0.004116887</td><td>0.01622538</td><td>0.02429771</td><td>0.1408621</td><td>⋯</td><td>0.002502422</td><td>0.08411366</td><td>6.780756e-03</td><td>0.010251857</td><td>0.010494026</td><td>0.005247013</td><td>0.012431385</td><td>0.009283177</td><td>8.070000e-09</td><td>Chert_1</td></tr>\n",
       "\t<tr><th scope=row>6</th><td>71.11.1-89.06</td><td>Guess</td><td>Gravel Cherts</td><td>0.09852139</td><td>0.010990749</td><td>1.257215e-02</td><td>0.001423262</td><td>0.01486518</td><td>0.02308848</td><td>0.3841227</td><td>⋯</td><td>0.009646556</td><td>0.09575393</td><td>7.910000e-09</td><td>0.008381434</td><td>0.006167471</td><td>0.001897683</td><td>0.000079100</td><td>0.014627975</td><td>5.851190e-03</td><td>Chert_1</td></tr>\n",
       "\t<tr><th scope=row>7</th><td>71.11.1-89.07</td><td>Guess</td><td>Gravel Cherts</td><td>0.11442869</td><td>0.002752294</td><td>2.668891e-03</td><td>0.007923269</td><td>0.01050876</td><td>0.02460384</td><td>0.2135947</td><td>⋯</td><td>0.018432027</td><td>0.12335279</td><td>1.209341e-02</td><td>0.006839033</td><td>0.019599666</td><td>0.004587156</td><td>0.000083400</td><td>0.081067556</td><td>5.421184e-03</td><td>Chert_2</td></tr>\n",
       "</tbody>\n",
       "</table>\n"
      ],
      "text/latex": [
       "A data.frame: 6 × 31\n",
       "\\begin{tabular}{r|lllllllllllllllllllll}\n",
       "  & sample\\_id & is\\_known & Vis & Ag.Rh & Al.Rh & As.Rh & Au.Rh & Ca.Rh & Cu.Rh & Fe.Rh & ⋯ & Sn.Rh & Sr.Rh & Th.Rh & Ti.Rh & U.Rh & V.Rh & Y.Rh & Zn.Rh & Zr.Rh & gmm\\_label\\\\\n",
       "  & <chr> & <chr> & <chr> & <dbl> & <dbl> & <dbl> & <dbl> & <dbl> & <dbl> & <dbl> & ⋯ & <dbl> & <dbl> & <dbl> & <dbl> & <dbl> & <dbl> & <dbl> & <dbl> & <dbl> & <chr>\\\\\n",
       "\\hline\n",
       "\t1 & 71.11.1-89.01 & Guess & Gravel Cherts & 0.10581683 & 0.000077400 & 7.740000e-09 & 0.004176980 & 0.11718750 & 0.02560334 & 0.4126702 & ⋯ & 0.030244431 & 0.13691213 & 2.328280e-02 & 0.015702351 & 0.027769183 & 0.005491955 & 0.003635520 & 0.090423886 & 7.740000e-09 & Chert\\_2\\\\\n",
       "\t2 & 71.11.1-89.02 & Guess & Gravel Cherts & 0.10531120 & 0.001244813 & 4.564315e-03 & 0.002074689 & 0.05659751 & 0.02489627 & 0.2215768 & ⋯ & 0.019170124 & 0.18995851 & 1.294606e-02 & 0.013609959 & 0.016431535 & 0.006887967 & 0.000083000 & 0.071867220 & 8.300000e-09 & Chert\\_2\\\\\n",
       "\t3 & 71.11.1-89.03 & Guess & Gravel Cherts & 0.09514864 & 0.002613525 & 3.266910e-04 & 0.003756942 & 0.04957530 & 0.04271480 & 0.4997550 & ⋯ & 0.010944136 & 0.09882391 & 7.350539e-03 & 0.018703038 & 0.008330611 & 0.005308723 & 0.004573669 & 0.039692911 & 2.531852e-03 & Chert\\_1\\\\\n",
       "\t5 & 71.11.1-89.05 & Guess & Gravel Cherts & 0.13916694 & 0.002825315 & 8.070000e-09 & 0.004116887 & 0.01622538 & 0.02429771 & 0.1408621 & ⋯ & 0.002502422 & 0.08411366 & 6.780756e-03 & 0.010251857 & 0.010494026 & 0.005247013 & 0.012431385 & 0.009283177 & 8.070000e-09 & Chert\\_1\\\\\n",
       "\t6 & 71.11.1-89.06 & Guess & Gravel Cherts & 0.09852139 & 0.010990749 & 1.257215e-02 & 0.001423262 & 0.01486518 & 0.02308848 & 0.3841227 & ⋯ & 0.009646556 & 0.09575393 & 7.910000e-09 & 0.008381434 & 0.006167471 & 0.001897683 & 0.000079100 & 0.014627975 & 5.851190e-03 & Chert\\_1\\\\\n",
       "\t7 & 71.11.1-89.07 & Guess & Gravel Cherts & 0.11442869 & 0.002752294 & 2.668891e-03 & 0.007923269 & 0.01050876 & 0.02460384 & 0.2135947 & ⋯ & 0.018432027 & 0.12335279 & 1.209341e-02 & 0.006839033 & 0.019599666 & 0.004587156 & 0.000083400 & 0.081067556 & 5.421184e-03 & Chert\\_2\\\\\n",
       "\\end{tabular}\n"
      ],
      "text/markdown": [
       "\n",
       "A data.frame: 6 × 31\n",
       "\n",
       "| <!--/--> | sample_id &lt;chr&gt; | is_known &lt;chr&gt; | Vis &lt;chr&gt; | Ag.Rh &lt;dbl&gt; | Al.Rh &lt;dbl&gt; | As.Rh &lt;dbl&gt; | Au.Rh &lt;dbl&gt; | Ca.Rh &lt;dbl&gt; | Cu.Rh &lt;dbl&gt; | Fe.Rh &lt;dbl&gt; | ⋯ ⋯ | Sn.Rh &lt;dbl&gt; | Sr.Rh &lt;dbl&gt; | Th.Rh &lt;dbl&gt; | Ti.Rh &lt;dbl&gt; | U.Rh &lt;dbl&gt; | V.Rh &lt;dbl&gt; | Y.Rh &lt;dbl&gt; | Zn.Rh &lt;dbl&gt; | Zr.Rh &lt;dbl&gt; | gmm_label &lt;chr&gt; |\n",
       "|---|---|---|---|---|---|---|---|---|---|---|---|---|---|---|---|---|---|---|---|---|---|\n",
       "| 1 | 71.11.1-89.01 | Guess | Gravel Cherts | 0.10581683 | 0.000077400 | 7.740000e-09 | 0.004176980 | 0.11718750 | 0.02560334 | 0.4126702 | ⋯ | 0.030244431 | 0.13691213 | 2.328280e-02 | 0.015702351 | 0.027769183 | 0.005491955 | 0.003635520 | 0.090423886 | 7.740000e-09 | Chert_2 |\n",
       "| 2 | 71.11.1-89.02 | Guess | Gravel Cherts | 0.10531120 | 0.001244813 | 4.564315e-03 | 0.002074689 | 0.05659751 | 0.02489627 | 0.2215768 | ⋯ | 0.019170124 | 0.18995851 | 1.294606e-02 | 0.013609959 | 0.016431535 | 0.006887967 | 0.000083000 | 0.071867220 | 8.300000e-09 | Chert_2 |\n",
       "| 3 | 71.11.1-89.03 | Guess | Gravel Cherts | 0.09514864 | 0.002613525 | 3.266910e-04 | 0.003756942 | 0.04957530 | 0.04271480 | 0.4997550 | ⋯ | 0.010944136 | 0.09882391 | 7.350539e-03 | 0.018703038 | 0.008330611 | 0.005308723 | 0.004573669 | 0.039692911 | 2.531852e-03 | Chert_1 |\n",
       "| 5 | 71.11.1-89.05 | Guess | Gravel Cherts | 0.13916694 | 0.002825315 | 8.070000e-09 | 0.004116887 | 0.01622538 | 0.02429771 | 0.1408621 | ⋯ | 0.002502422 | 0.08411366 | 6.780756e-03 | 0.010251857 | 0.010494026 | 0.005247013 | 0.012431385 | 0.009283177 | 8.070000e-09 | Chert_1 |\n",
       "| 6 | 71.11.1-89.06 | Guess | Gravel Cherts | 0.09852139 | 0.010990749 | 1.257215e-02 | 0.001423262 | 0.01486518 | 0.02308848 | 0.3841227 | ⋯ | 0.009646556 | 0.09575393 | 7.910000e-09 | 0.008381434 | 0.006167471 | 0.001897683 | 0.000079100 | 0.014627975 | 5.851190e-03 | Chert_1 |\n",
       "| 7 | 71.11.1-89.07 | Guess | Gravel Cherts | 0.11442869 | 0.002752294 | 2.668891e-03 | 0.007923269 | 0.01050876 | 0.02460384 | 0.2135947 | ⋯ | 0.018432027 | 0.12335279 | 1.209341e-02 | 0.006839033 | 0.019599666 | 0.004587156 | 0.000083400 | 0.081067556 | 5.421184e-03 | Chert_2 |\n",
       "\n"
      ],
      "text/plain": [
       "  sample_id     is_known Vis           Ag.Rh      Al.Rh       As.Rh       \n",
       "1 71.11.1-89.01 Guess    Gravel Cherts 0.10581683 0.000077400 7.740000e-09\n",
       "2 71.11.1-89.02 Guess    Gravel Cherts 0.10531120 0.001244813 4.564315e-03\n",
       "3 71.11.1-89.03 Guess    Gravel Cherts 0.09514864 0.002613525 3.266910e-04\n",
       "5 71.11.1-89.05 Guess    Gravel Cherts 0.13916694 0.002825315 8.070000e-09\n",
       "6 71.11.1-89.06 Guess    Gravel Cherts 0.09852139 0.010990749 1.257215e-02\n",
       "7 71.11.1-89.07 Guess    Gravel Cherts 0.11442869 0.002752294 2.668891e-03\n",
       "  Au.Rh       Ca.Rh      Cu.Rh      Fe.Rh     ⋯ Sn.Rh       Sr.Rh     \n",
       "1 0.004176980 0.11718750 0.02560334 0.4126702 ⋯ 0.030244431 0.13691213\n",
       "2 0.002074689 0.05659751 0.02489627 0.2215768 ⋯ 0.019170124 0.18995851\n",
       "3 0.003756942 0.04957530 0.04271480 0.4997550 ⋯ 0.010944136 0.09882391\n",
       "5 0.004116887 0.01622538 0.02429771 0.1408621 ⋯ 0.002502422 0.08411366\n",
       "6 0.001423262 0.01486518 0.02308848 0.3841227 ⋯ 0.009646556 0.09575393\n",
       "7 0.007923269 0.01050876 0.02460384 0.2135947 ⋯ 0.018432027 0.12335279\n",
       "  Th.Rh        Ti.Rh       U.Rh        V.Rh        Y.Rh        Zn.Rh      \n",
       "1 2.328280e-02 0.015702351 0.027769183 0.005491955 0.003635520 0.090423886\n",
       "2 1.294606e-02 0.013609959 0.016431535 0.006887967 0.000083000 0.071867220\n",
       "3 7.350539e-03 0.018703038 0.008330611 0.005308723 0.004573669 0.039692911\n",
       "5 6.780756e-03 0.010251857 0.010494026 0.005247013 0.012431385 0.009283177\n",
       "6 7.910000e-09 0.008381434 0.006167471 0.001897683 0.000079100 0.014627975\n",
       "7 1.209341e-02 0.006839033 0.019599666 0.004587156 0.000083400 0.081067556\n",
       "  Zr.Rh        gmm_label\n",
       "1 7.740000e-09 Chert_2  \n",
       "2 8.300000e-09 Chert_2  \n",
       "3 2.531852e-03 Chert_1  \n",
       "5 8.070000e-09 Chert_1  \n",
       "6 5.851190e-03 Chert_1  \n",
       "7 5.421184e-03 Chert_2  "
      ]
     },
     "metadata": {},
     "output_type": "display_data"
    }
   ],
   "source": [
    "# take a portion of train and create a test dataset, to be added to the test set already in csv form, since there are so few samples in the test dataset\n",
    "trainIndex <- createDataPartition(train_df$gmm_label, p = .8, \n",
    "                                  list = FALSE, times = 1)\n",
    "\n",
    "lithTrain <- train_df[ trainIndex,]\n",
    "lithTest  <- train_df[-trainIndex,]\n",
    "\n",
    "head(lithTrain)"
   ]
  },
  {
   "cell_type": "code",
   "execution_count": 14,
   "metadata": {},
   "outputs": [
    {
     "data": {
      "text/html": [
       "<table>\n",
       "<caption>A data.frame: 6 × 27</caption>\n",
       "<thead>\n",
       "\t<tr><th></th><th scope=col>Ag.Rh</th><th scope=col>Al.Rh</th><th scope=col>As.Rh</th><th scope=col>Au.Rh</th><th scope=col>Ca.Rh</th><th scope=col>Cu.Rh</th><th scope=col>Fe.Rh</th><th scope=col>K.Rh</th><th scope=col>Mg.Rh</th><th scope=col>Mn.Rh</th><th scope=col>⋯</th><th scope=col>Si.Rh</th><th scope=col>Sn.Rh</th><th scope=col>Sr.Rh</th><th scope=col>Th.Rh</th><th scope=col>Ti.Rh</th><th scope=col>U.Rh</th><th scope=col>V.Rh</th><th scope=col>Y.Rh</th><th scope=col>Zn.Rh</th><th scope=col>Zr.Rh</th></tr>\n",
       "\t<tr><th></th><th scope=col>&lt;dbl&gt;</th><th scope=col>&lt;dbl&gt;</th><th scope=col>&lt;dbl&gt;</th><th scope=col>&lt;dbl&gt;</th><th scope=col>&lt;dbl&gt;</th><th scope=col>&lt;dbl&gt;</th><th scope=col>&lt;dbl&gt;</th><th scope=col>&lt;dbl&gt;</th><th scope=col>&lt;dbl&gt;</th><th scope=col>&lt;dbl&gt;</th><th scope=col>⋯</th><th scope=col>&lt;dbl&gt;</th><th scope=col>&lt;dbl&gt;</th><th scope=col>&lt;dbl&gt;</th><th scope=col>&lt;dbl&gt;</th><th scope=col>&lt;dbl&gt;</th><th scope=col>&lt;dbl&gt;</th><th scope=col>&lt;dbl&gt;</th><th scope=col>&lt;dbl&gt;</th><th scope=col>&lt;dbl&gt;</th><th scope=col>&lt;dbl&gt;</th></tr>\n",
       "</thead>\n",
       "<tbody>\n",
       "\t<tr><th scope=row>1</th><td>0.10581683</td><td>0.000077400</td><td>7.740000e-09</td><td>0.004176980</td><td>0.11718750</td><td>0.02560334</td><td>0.4126702</td><td>0.010597153</td><td>0.009127475</td><td>0.003326114</td><td>⋯</td><td>0.06234530</td><td>0.030244431</td><td>0.13691213</td><td>2.328280e-02</td><td>0.015702351</td><td>0.027769183</td><td>0.005491955</td><td>0.003635520</td><td>0.090423886</td><td>7.740000e-09</td></tr>\n",
       "\t<tr><th scope=row>2</th><td>0.10531120</td><td>0.001244813</td><td>4.564315e-03</td><td>0.002074689</td><td>0.05659751</td><td>0.02489627</td><td>0.2215768</td><td>0.005394191</td><td>0.007883817</td><td>0.010373444</td><td>⋯</td><td>0.06373444</td><td>0.019170124</td><td>0.18995851</td><td>1.294606e-02</td><td>0.013609959</td><td>0.016431535</td><td>0.006887967</td><td>0.000083000</td><td>0.071867220</td><td>8.300000e-09</td></tr>\n",
       "\t<tr><th scope=row>3</th><td>0.09514864</td><td>0.002613525</td><td>3.266910e-04</td><td>0.003756942</td><td>0.04957530</td><td>0.04271480</td><td>0.4997550</td><td>0.015436132</td><td>0.003430252</td><td>0.005553741</td><td>⋯</td><td>0.05545573</td><td>0.010944136</td><td>0.09882391</td><td>7.350539e-03</td><td>0.018703038</td><td>0.008330611</td><td>0.005308723</td><td>0.004573669</td><td>0.039692911</td><td>2.531852e-03</td></tr>\n",
       "\t<tr><th scope=row>5</th><td>0.13916694</td><td>0.002825315</td><td>8.070000e-09</td><td>0.004116887</td><td>0.01622538</td><td>0.02429771</td><td>0.1408621</td><td>0.000080700</td><td>0.002179529</td><td>0.007830158</td><td>⋯</td><td>0.07111721</td><td>0.002502422</td><td>0.08411366</td><td>6.780756e-03</td><td>0.010251857</td><td>0.010494026</td><td>0.005247013</td><td>0.012431385</td><td>0.009283177</td><td>8.070000e-09</td></tr>\n",
       "\t<tr><th scope=row>6</th><td>0.09852139</td><td>0.010990749</td><td>1.257215e-02</td><td>0.001423262</td><td>0.01486518</td><td>0.02308848</td><td>0.3841227</td><td>0.001265122</td><td>0.007748873</td><td>0.009725627</td><td>⋯</td><td>0.07108405</td><td>0.009646556</td><td>0.09575393</td><td>7.910000e-09</td><td>0.008381434</td><td>0.006167471</td><td>0.001897683</td><td>0.000079100</td><td>0.014627975</td><td>5.851190e-03</td></tr>\n",
       "\t<tr><th scope=row>7</th><td>0.11442869</td><td>0.002752294</td><td>2.668891e-03</td><td>0.007923269</td><td>0.01050876</td><td>0.02460384</td><td>0.2135947</td><td>0.000834028</td><td>0.011342786</td><td>0.007506255</td><td>⋯</td><td>0.06964137</td><td>0.018432027</td><td>0.12335279</td><td>1.209341e-02</td><td>0.006839033</td><td>0.019599666</td><td>0.004587156</td><td>0.000083400</td><td>0.081067556</td><td>5.421184e-03</td></tr>\n",
       "</tbody>\n",
       "</table>\n"
      ],
      "text/latex": [
       "A data.frame: 6 × 27\n",
       "\\begin{tabular}{r|lllllllllllllllllllll}\n",
       "  & Ag.Rh & Al.Rh & As.Rh & Au.Rh & Ca.Rh & Cu.Rh & Fe.Rh & K.Rh & Mg.Rh & Mn.Rh & ⋯ & Si.Rh & Sn.Rh & Sr.Rh & Th.Rh & Ti.Rh & U.Rh & V.Rh & Y.Rh & Zn.Rh & Zr.Rh\\\\\n",
       "  & <dbl> & <dbl> & <dbl> & <dbl> & <dbl> & <dbl> & <dbl> & <dbl> & <dbl> & <dbl> & ⋯ & <dbl> & <dbl> & <dbl> & <dbl> & <dbl> & <dbl> & <dbl> & <dbl> & <dbl> & <dbl>\\\\\n",
       "\\hline\n",
       "\t1 & 0.10581683 & 0.000077400 & 7.740000e-09 & 0.004176980 & 0.11718750 & 0.02560334 & 0.4126702 & 0.010597153 & 0.009127475 & 0.003326114 & ⋯ & 0.06234530 & 0.030244431 & 0.13691213 & 2.328280e-02 & 0.015702351 & 0.027769183 & 0.005491955 & 0.003635520 & 0.090423886 & 7.740000e-09\\\\\n",
       "\t2 & 0.10531120 & 0.001244813 & 4.564315e-03 & 0.002074689 & 0.05659751 & 0.02489627 & 0.2215768 & 0.005394191 & 0.007883817 & 0.010373444 & ⋯ & 0.06373444 & 0.019170124 & 0.18995851 & 1.294606e-02 & 0.013609959 & 0.016431535 & 0.006887967 & 0.000083000 & 0.071867220 & 8.300000e-09\\\\\n",
       "\t3 & 0.09514864 & 0.002613525 & 3.266910e-04 & 0.003756942 & 0.04957530 & 0.04271480 & 0.4997550 & 0.015436132 & 0.003430252 & 0.005553741 & ⋯ & 0.05545573 & 0.010944136 & 0.09882391 & 7.350539e-03 & 0.018703038 & 0.008330611 & 0.005308723 & 0.004573669 & 0.039692911 & 2.531852e-03\\\\\n",
       "\t5 & 0.13916694 & 0.002825315 & 8.070000e-09 & 0.004116887 & 0.01622538 & 0.02429771 & 0.1408621 & 0.000080700 & 0.002179529 & 0.007830158 & ⋯ & 0.07111721 & 0.002502422 & 0.08411366 & 6.780756e-03 & 0.010251857 & 0.010494026 & 0.005247013 & 0.012431385 & 0.009283177 & 8.070000e-09\\\\\n",
       "\t6 & 0.09852139 & 0.010990749 & 1.257215e-02 & 0.001423262 & 0.01486518 & 0.02308848 & 0.3841227 & 0.001265122 & 0.007748873 & 0.009725627 & ⋯ & 0.07108405 & 0.009646556 & 0.09575393 & 7.910000e-09 & 0.008381434 & 0.006167471 & 0.001897683 & 0.000079100 & 0.014627975 & 5.851190e-03\\\\\n",
       "\t7 & 0.11442869 & 0.002752294 & 2.668891e-03 & 0.007923269 & 0.01050876 & 0.02460384 & 0.2135947 & 0.000834028 & 0.011342786 & 0.007506255 & ⋯ & 0.06964137 & 0.018432027 & 0.12335279 & 1.209341e-02 & 0.006839033 & 0.019599666 & 0.004587156 & 0.000083400 & 0.081067556 & 5.421184e-03\\\\\n",
       "\\end{tabular}\n"
      ],
      "text/markdown": [
       "\n",
       "A data.frame: 6 × 27\n",
       "\n",
       "| <!--/--> | Ag.Rh &lt;dbl&gt; | Al.Rh &lt;dbl&gt; | As.Rh &lt;dbl&gt; | Au.Rh &lt;dbl&gt; | Ca.Rh &lt;dbl&gt; | Cu.Rh &lt;dbl&gt; | Fe.Rh &lt;dbl&gt; | K.Rh &lt;dbl&gt; | Mg.Rh &lt;dbl&gt; | Mn.Rh &lt;dbl&gt; | ⋯ ⋯ | Si.Rh &lt;dbl&gt; | Sn.Rh &lt;dbl&gt; | Sr.Rh &lt;dbl&gt; | Th.Rh &lt;dbl&gt; | Ti.Rh &lt;dbl&gt; | U.Rh &lt;dbl&gt; | V.Rh &lt;dbl&gt; | Y.Rh &lt;dbl&gt; | Zn.Rh &lt;dbl&gt; | Zr.Rh &lt;dbl&gt; |\n",
       "|---|---|---|---|---|---|---|---|---|---|---|---|---|---|---|---|---|---|---|---|---|---|\n",
       "| 1 | 0.10581683 | 0.000077400 | 7.740000e-09 | 0.004176980 | 0.11718750 | 0.02560334 | 0.4126702 | 0.010597153 | 0.009127475 | 0.003326114 | ⋯ | 0.06234530 | 0.030244431 | 0.13691213 | 2.328280e-02 | 0.015702351 | 0.027769183 | 0.005491955 | 0.003635520 | 0.090423886 | 7.740000e-09 |\n",
       "| 2 | 0.10531120 | 0.001244813 | 4.564315e-03 | 0.002074689 | 0.05659751 | 0.02489627 | 0.2215768 | 0.005394191 | 0.007883817 | 0.010373444 | ⋯ | 0.06373444 | 0.019170124 | 0.18995851 | 1.294606e-02 | 0.013609959 | 0.016431535 | 0.006887967 | 0.000083000 | 0.071867220 | 8.300000e-09 |\n",
       "| 3 | 0.09514864 | 0.002613525 | 3.266910e-04 | 0.003756942 | 0.04957530 | 0.04271480 | 0.4997550 | 0.015436132 | 0.003430252 | 0.005553741 | ⋯ | 0.05545573 | 0.010944136 | 0.09882391 | 7.350539e-03 | 0.018703038 | 0.008330611 | 0.005308723 | 0.004573669 | 0.039692911 | 2.531852e-03 |\n",
       "| 5 | 0.13916694 | 0.002825315 | 8.070000e-09 | 0.004116887 | 0.01622538 | 0.02429771 | 0.1408621 | 0.000080700 | 0.002179529 | 0.007830158 | ⋯ | 0.07111721 | 0.002502422 | 0.08411366 | 6.780756e-03 | 0.010251857 | 0.010494026 | 0.005247013 | 0.012431385 | 0.009283177 | 8.070000e-09 |\n",
       "| 6 | 0.09852139 | 0.010990749 | 1.257215e-02 | 0.001423262 | 0.01486518 | 0.02308848 | 0.3841227 | 0.001265122 | 0.007748873 | 0.009725627 | ⋯ | 0.07108405 | 0.009646556 | 0.09575393 | 7.910000e-09 | 0.008381434 | 0.006167471 | 0.001897683 | 0.000079100 | 0.014627975 | 5.851190e-03 |\n",
       "| 7 | 0.11442869 | 0.002752294 | 2.668891e-03 | 0.007923269 | 0.01050876 | 0.02460384 | 0.2135947 | 0.000834028 | 0.011342786 | 0.007506255 | ⋯ | 0.06964137 | 0.018432027 | 0.12335279 | 1.209341e-02 | 0.006839033 | 0.019599666 | 0.004587156 | 0.000083400 | 0.081067556 | 5.421184e-03 |\n",
       "\n"
      ],
      "text/plain": [
       "  Ag.Rh      Al.Rh       As.Rh        Au.Rh       Ca.Rh      Cu.Rh     \n",
       "1 0.10581683 0.000077400 7.740000e-09 0.004176980 0.11718750 0.02560334\n",
       "2 0.10531120 0.001244813 4.564315e-03 0.002074689 0.05659751 0.02489627\n",
       "3 0.09514864 0.002613525 3.266910e-04 0.003756942 0.04957530 0.04271480\n",
       "5 0.13916694 0.002825315 8.070000e-09 0.004116887 0.01622538 0.02429771\n",
       "6 0.09852139 0.010990749 1.257215e-02 0.001423262 0.01486518 0.02308848\n",
       "7 0.11442869 0.002752294 2.668891e-03 0.007923269 0.01050876 0.02460384\n",
       "  Fe.Rh     K.Rh        Mg.Rh       Mn.Rh       ⋯ Si.Rh      Sn.Rh      \n",
       "1 0.4126702 0.010597153 0.009127475 0.003326114 ⋯ 0.06234530 0.030244431\n",
       "2 0.2215768 0.005394191 0.007883817 0.010373444 ⋯ 0.06373444 0.019170124\n",
       "3 0.4997550 0.015436132 0.003430252 0.005553741 ⋯ 0.05545573 0.010944136\n",
       "5 0.1408621 0.000080700 0.002179529 0.007830158 ⋯ 0.07111721 0.002502422\n",
       "6 0.3841227 0.001265122 0.007748873 0.009725627 ⋯ 0.07108405 0.009646556\n",
       "7 0.2135947 0.000834028 0.011342786 0.007506255 ⋯ 0.06964137 0.018432027\n",
       "  Sr.Rh      Th.Rh        Ti.Rh       U.Rh        V.Rh        Y.Rh       \n",
       "1 0.13691213 2.328280e-02 0.015702351 0.027769183 0.005491955 0.003635520\n",
       "2 0.18995851 1.294606e-02 0.013609959 0.016431535 0.006887967 0.000083000\n",
       "3 0.09882391 7.350539e-03 0.018703038 0.008330611 0.005308723 0.004573669\n",
       "5 0.08411366 6.780756e-03 0.010251857 0.010494026 0.005247013 0.012431385\n",
       "6 0.09575393 7.910000e-09 0.008381434 0.006167471 0.001897683 0.000079100\n",
       "7 0.12335279 1.209341e-02 0.006839033 0.019599666 0.004587156 0.000083400\n",
       "  Zn.Rh       Zr.Rh       \n",
       "1 0.090423886 7.740000e-09\n",
       "2 0.071867220 8.300000e-09\n",
       "3 0.039692911 2.531852e-03\n",
       "5 0.009283177 8.070000e-09\n",
       "6 0.014627975 5.851190e-03\n",
       "7 0.081067556 5.421184e-03"
      ]
     },
     "metadata": {},
     "output_type": "display_data"
    }
   ],
   "source": [
    "# 1. RF - vis\n",
    "# the predicted value (Y) is the Vis column \n",
    "RF_vis_Y <- lithTrain$Vis\n",
    "\n",
    "# the values we will use to predict (x) are the elemental concentrations\n",
    "RF_x <- lithTrain[,4:30]\n",
    "\n",
    "head(RF_x)"
   ]
  },
  {
   "cell_type": "code",
   "execution_count": 15,
   "metadata": {},
   "outputs": [
    {
     "data": {
      "text/plain": [
       "\n",
       "Call:\n",
       " randomForest(x = RF_x, y = as.factor(RF_vis_Y), ntree = 10001,      importance = TRUE, proximity = TRUE) \n",
       "               Type of random forest: classification\n",
       "                     Number of trees: 10001\n",
       "No. of variables tried at each split: 5\n",
       "\n",
       "        OOB estimate of  error rate: 22.97%\n",
       "Confusion matrix:\n",
       "                      Agate Alibates Black Cherts Black Metamorphic\n",
       "Agate                     0        0            0                 0\n",
       "Alibates                  0        0            0                 0\n",
       "Black Cherts              0        0            0                 2\n",
       "Black Metamorphic         0        0            0                 8\n",
       "Edwards Plateau Chert     0        0            0                 0\n",
       "El Sauz Chert             0        0            0                 0\n",
       "Gravel Cherts             0        0            0                 7\n",
       "Knife River Flint         0        0            0                 0\n",
       "Oman Chert                0        0            0                 0\n",
       "Undiff. igneous           0        0            0                 1\n",
       "Unk                       0        0            0                 0\n",
       "                      Edwards Plateau Chert El Sauz Chert Gravel Cherts\n",
       "Agate                                     1             1            37\n",
       "Alibates                                  0             0            20\n",
       "Black Cherts                              0             0            10\n",
       "Black Metamorphic                         0             0            35\n",
       "Edwards Plateau Chert                    22             0            36\n",
       "El Sauz Chert                             0           259             3\n",
       "Gravel Cherts                             2             8           408\n",
       "Knife River Flint                         0             0            10\n",
       "Oman Chert                                0             0             4\n",
       "Undiff. igneous                           0             2            11\n",
       "Unk                                       0             2            20\n",
       "                      Knife River Flint Oman Chert Undiff. igneous Unk\n",
       "Agate                                 0          0               0   0\n",
       "Alibates                              0          0               0   0\n",
       "Black Cherts                          0          0               0   0\n",
       "Black Metamorphic                     0          0               0   0\n",
       "Edwards Plateau Chert                 0          0               0   0\n",
       "El Sauz Chert                         0          0               0   0\n",
       "Gravel Cherts                         0          0               3   0\n",
       "Knife River Flint                     0          0               0   0\n",
       "Oman Chert                            0         13               0   0\n",
       "Undiff. igneous                       0          0              11   0\n",
       "Unk                                   0          0               0   0\n",
       "                      class.error\n",
       "Agate                  1.00000000\n",
       "Alibates               1.00000000\n",
       "Black Cherts           1.00000000\n",
       "Black Metamorphic      0.81395349\n",
       "Edwards Plateau Chert  0.62068966\n",
       "El Sauz Chert          0.01145038\n",
       "Gravel Cherts          0.04672897\n",
       "Knife River Flint      1.00000000\n",
       "Oman Chert             0.23529412\n",
       "Undiff. igneous        0.56000000\n",
       "Unk                    1.00000000"
      ]
     },
     "metadata": {},
     "output_type": "display_data"
    }
   ],
   "source": [
    "RF_output_vis <- randomForest(y = as.factor(RF_vis_Y), x = RF_x, importance = TRUE, \n",
    "                              ntree = 10001, proximity = TRUE)\n",
    "RF_output_vis"
   ]
  },
  {
   "cell_type": "code",
   "execution_count": 16,
   "metadata": {},
   "outputs": [
    {
     "data": {
      "text/plain": [
       "\n",
       "Call:\n",
       " randomForest(x = RF_x, y = as.factor(RF_gmm_Y), ntree = 10001,      importance = TRUE, proximity = TRUE) \n",
       "               Type of random forest: classification\n",
       "                     Number of trees: 10001\n",
       "No. of variables tried at each split: 5\n",
       "\n",
       "        OOB estimate of  error rate: 14.42%\n",
       "Confusion matrix:\n",
       "         Alibates Chert_1 Chert_2 Chert_3 EPC ESC Igneous KRF Oman class.error\n",
       "Alibates        0      14       2       0   2   1       0   0    0  1.00000000\n",
       "Chert_1         0     344       5       0   2   0       0   0    0  0.01994302\n",
       "Chert_2         0      24     104       0   0   0       0   0    0  0.18750000\n",
       "Chert_3         0      10       8      10   1  11       0   0    0  0.75000000\n",
       "EPC             0      24       6       0  28   0       0   0    0  0.51724138\n",
       "ESC             0       1       2       0   0 275       0   0    0  0.01079137\n",
       "Igneous         0       0       4       1   0   3      27   0    0  0.22857143\n",
       "KRF             0       4       3       0   1   1       0   0    1  1.00000000\n",
       "Oman            0       1       3       0   0   0       0   0   13  0.23529412"
      ]
     },
     "metadata": {},
     "output_type": "display_data"
    }
   ],
   "source": [
    "# 2. RF - gmm classification\n",
    "# the predicted value (Y) is the gmm_label column \n",
    "RF_gmm_Y <- lithTrain$gmm_label\n",
    "\n",
    "RF_output_gmm <- randomForest(y = as.factor(RF_gmm_Y), x = RF_x, importance = TRUE, \n",
    "                              ntree = 10001, proximity = TRUE)\n",
    "RF_output_gmm"
   ]
  },
  {
   "cell_type": "code",
   "execution_count": 17,
   "metadata": {},
   "outputs": [],
   "source": [
    "# the results of this random forest is much better than the results when including silicified wood & limestone\n",
    "# I will calculate the accuracy & precision of this subset instead of the entire dataset"
   ]
  },
  {
   "cell_type": "markdown",
   "metadata": {},
   "source": [
    "Load test dataset, remove the silicified wood & limestone samples, and restrict the values to only the elemental concentrations"
   ]
  },
  {
   "cell_type": "code",
   "execution_count": 18,
   "metadata": {},
   "outputs": [
    {
     "data": {
      "text/html": [
       "<table>\n",
       "<caption>A data.frame: 6 × 30</caption>\n",
       "<thead>\n",
       "\t<tr><th></th><th scope=col>sample_id</th><th scope=col>Vis</th><th scope=col>Ag.Rh</th><th scope=col>Al.Rh</th><th scope=col>As.Rh</th><th scope=col>Au.Rh</th><th scope=col>Ca.Rh</th><th scope=col>Cu.Rh</th><th scope=col>Fe.Rh</th><th scope=col>K.Rh</th><th scope=col>⋯</th><th scope=col>Sn.Rh</th><th scope=col>Sr.Rh</th><th scope=col>Th.Rh</th><th scope=col>Ti.Rh</th><th scope=col>U.Rh</th><th scope=col>V.Rh</th><th scope=col>Y.Rh</th><th scope=col>Zn.Rh</th><th scope=col>Zr.Rh</th><th scope=col>gmm_label</th></tr>\n",
       "\t<tr><th></th><th scope=col>&lt;chr&gt;</th><th scope=col>&lt;chr&gt;</th><th scope=col>&lt;dbl&gt;</th><th scope=col>&lt;dbl&gt;</th><th scope=col>&lt;dbl&gt;</th><th scope=col>&lt;dbl&gt;</th><th scope=col>&lt;dbl&gt;</th><th scope=col>&lt;dbl&gt;</th><th scope=col>&lt;dbl&gt;</th><th scope=col>&lt;dbl&gt;</th><th scope=col>⋯</th><th scope=col>&lt;dbl&gt;</th><th scope=col>&lt;dbl&gt;</th><th scope=col>&lt;dbl&gt;</th><th scope=col>&lt;dbl&gt;</th><th scope=col>&lt;dbl&gt;</th><th scope=col>&lt;dbl&gt;</th><th scope=col>&lt;dbl&gt;</th><th scope=col>&lt;dbl&gt;</th><th scope=col>&lt;dbl&gt;</th><th scope=col>&lt;chr&gt;</th></tr>\n",
       "</thead>\n",
       "<tbody>\n",
       "\t<tr><th scope=row>1</th><td>BH 001</td><td>El Sauz Chert  </td><td>0.10972569</td><td>0.003075644</td><td>0.011637573</td><td>0.007481297</td><td>0.01246883</td><td>0.02236077</td><td> 0.11197008</td><td>0.003657523</td><td>⋯</td><td>0.015128845</td><td>0.06118038</td><td>0.002078138</td><td>0.07057357</td><td>0.000665004</td><td>0.002576891</td><td>0.000083126</td><td>0.010307564</td><td>0.247215295</td><td>ESC    </td></tr>\n",
       "\t<tr><th scope=row>2</th><td>BH 002</td><td>Gravel Cherts  </td><td>0.11635067</td><td>0.001458435</td><td>0.002025604</td><td>0.000081024</td><td>0.01450332</td><td>0.02414520</td><td> 0.05777022</td><td>0.000162048</td><td>⋯</td><td>0.008102415</td><td>0.39734241</td><td>0.011019284</td><td>0.02130935</td><td>0.052827743</td><td>0.007616270</td><td>0.000081024</td><td>0.006076811</td><td>0.000000000</td><td>Chert_1</td></tr>\n",
       "\t<tr><th scope=row>3</th><td>BH 003</td><td>Undiff. igneous</td><td>0.11377399</td><td>0.005714286</td><td>0.009381663</td><td>0.002132196</td><td>0.02626866</td><td>0.02328358</td><td> 1.65637527</td><td>0.015437100</td><td>⋯</td><td>0.011428571</td><td>0.07565032</td><td>0.015692964</td><td>0.03650320</td><td>0.007590618</td><td>0.007420043</td><td>0.000085288</td><td>0.009722814</td><td>0.071300640</td><td>Chert_3</td></tr>\n",
       "\t<tr><th scope=row>4</th><td>BH 004</td><td>Undiff. igneous</td><td>0.10462904</td><td>0.002627050</td><td>0.231452124</td><td>0.006794094</td><td>0.02074463</td><td>0.02925990</td><td>11.30491892</td><td>0.001992934</td><td>⋯</td><td>0.020654045</td><td>0.06585742</td><td>0.025726968</td><td>0.03116224</td><td>0.019295226</td><td>0.008062324</td><td>0.003170577</td><td>0.063773893</td><td>0.000000000</td><td>Igneous</td></tr>\n",
       "\t<tr><th scope=row>5</th><td>BH 005</td><td>Gravel Cherts  </td><td>0.09101322</td><td>0.000881057</td><td>0.005550661</td><td>0.007929515</td><td>0.08317181</td><td>0.03074890</td><td> 1.91048458</td><td>0.026607930</td><td>⋯</td><td>0.022819383</td><td>0.93788546</td><td>0.007929515</td><td>0.07444934</td><td>0.034713656</td><td>0.017180617</td><td>0.038766520</td><td>0.021409692</td><td>0.094449339</td><td>Chert_3</td></tr>\n",
       "\t<tr><th scope=row>6</th><td>BH 006</td><td>Gravel Cherts  </td><td>0.10854994</td><td>0.003678274</td><td>0.000000000</td><td>0.010053948</td><td>0.01618440</td><td>0.02354095</td><td> 0.51356874</td><td>0.002533922</td><td>⋯</td><td>0.009645251</td><td>0.06457414</td><td>0.018881805</td><td>0.01790093</td><td>0.017573974</td><td>0.008664378</td><td>0.000081739</td><td>0.006457414</td><td>0.000980873</td><td>Chert_1</td></tr>\n",
       "</tbody>\n",
       "</table>\n"
      ],
      "text/latex": [
       "A data.frame: 6 × 30\n",
       "\\begin{tabular}{r|lllllllllllllllllllll}\n",
       "  & sample\\_id & Vis & Ag.Rh & Al.Rh & As.Rh & Au.Rh & Ca.Rh & Cu.Rh & Fe.Rh & K.Rh & ⋯ & Sn.Rh & Sr.Rh & Th.Rh & Ti.Rh & U.Rh & V.Rh & Y.Rh & Zn.Rh & Zr.Rh & gmm\\_label\\\\\n",
       "  & <chr> & <chr> & <dbl> & <dbl> & <dbl> & <dbl> & <dbl> & <dbl> & <dbl> & <dbl> & ⋯ & <dbl> & <dbl> & <dbl> & <dbl> & <dbl> & <dbl> & <dbl> & <dbl> & <dbl> & <chr>\\\\\n",
       "\\hline\n",
       "\t1 & BH 001 & El Sauz Chert   & 0.10972569 & 0.003075644 & 0.011637573 & 0.007481297 & 0.01246883 & 0.02236077 &  0.11197008 & 0.003657523 & ⋯ & 0.015128845 & 0.06118038 & 0.002078138 & 0.07057357 & 0.000665004 & 0.002576891 & 0.000083126 & 0.010307564 & 0.247215295 & ESC    \\\\\n",
       "\t2 & BH 002 & Gravel Cherts   & 0.11635067 & 0.001458435 & 0.002025604 & 0.000081024 & 0.01450332 & 0.02414520 &  0.05777022 & 0.000162048 & ⋯ & 0.008102415 & 0.39734241 & 0.011019284 & 0.02130935 & 0.052827743 & 0.007616270 & 0.000081024 & 0.006076811 & 0.000000000 & Chert\\_1\\\\\n",
       "\t3 & BH 003 & Undiff. igneous & 0.11377399 & 0.005714286 & 0.009381663 & 0.002132196 & 0.02626866 & 0.02328358 &  1.65637527 & 0.015437100 & ⋯ & 0.011428571 & 0.07565032 & 0.015692964 & 0.03650320 & 0.007590618 & 0.007420043 & 0.000085288 & 0.009722814 & 0.071300640 & Chert\\_3\\\\\n",
       "\t4 & BH 004 & Undiff. igneous & 0.10462904 & 0.002627050 & 0.231452124 & 0.006794094 & 0.02074463 & 0.02925990 & 11.30491892 & 0.001992934 & ⋯ & 0.020654045 & 0.06585742 & 0.025726968 & 0.03116224 & 0.019295226 & 0.008062324 & 0.003170577 & 0.063773893 & 0.000000000 & Igneous\\\\\n",
       "\t5 & BH 005 & Gravel Cherts   & 0.09101322 & 0.000881057 & 0.005550661 & 0.007929515 & 0.08317181 & 0.03074890 &  1.91048458 & 0.026607930 & ⋯ & 0.022819383 & 0.93788546 & 0.007929515 & 0.07444934 & 0.034713656 & 0.017180617 & 0.038766520 & 0.021409692 & 0.094449339 & Chert\\_3\\\\\n",
       "\t6 & BH 006 & Gravel Cherts   & 0.10854994 & 0.003678274 & 0.000000000 & 0.010053948 & 0.01618440 & 0.02354095 &  0.51356874 & 0.002533922 & ⋯ & 0.009645251 & 0.06457414 & 0.018881805 & 0.01790093 & 0.017573974 & 0.008664378 & 0.000081739 & 0.006457414 & 0.000980873 & Chert\\_1\\\\\n",
       "\\end{tabular}\n"
      ],
      "text/markdown": [
       "\n",
       "A data.frame: 6 × 30\n",
       "\n",
       "| <!--/--> | sample_id &lt;chr&gt; | Vis &lt;chr&gt; | Ag.Rh &lt;dbl&gt; | Al.Rh &lt;dbl&gt; | As.Rh &lt;dbl&gt; | Au.Rh &lt;dbl&gt; | Ca.Rh &lt;dbl&gt; | Cu.Rh &lt;dbl&gt; | Fe.Rh &lt;dbl&gt; | K.Rh &lt;dbl&gt; | ⋯ ⋯ | Sn.Rh &lt;dbl&gt; | Sr.Rh &lt;dbl&gt; | Th.Rh &lt;dbl&gt; | Ti.Rh &lt;dbl&gt; | U.Rh &lt;dbl&gt; | V.Rh &lt;dbl&gt; | Y.Rh &lt;dbl&gt; | Zn.Rh &lt;dbl&gt; | Zr.Rh &lt;dbl&gt; | gmm_label &lt;chr&gt; |\n",
       "|---|---|---|---|---|---|---|---|---|---|---|---|---|---|---|---|---|---|---|---|---|---|\n",
       "| 1 | BH 001 | El Sauz Chert   | 0.10972569 | 0.003075644 | 0.011637573 | 0.007481297 | 0.01246883 | 0.02236077 |  0.11197008 | 0.003657523 | ⋯ | 0.015128845 | 0.06118038 | 0.002078138 | 0.07057357 | 0.000665004 | 0.002576891 | 0.000083126 | 0.010307564 | 0.247215295 | ESC     |\n",
       "| 2 | BH 002 | Gravel Cherts   | 0.11635067 | 0.001458435 | 0.002025604 | 0.000081024 | 0.01450332 | 0.02414520 |  0.05777022 | 0.000162048 | ⋯ | 0.008102415 | 0.39734241 | 0.011019284 | 0.02130935 | 0.052827743 | 0.007616270 | 0.000081024 | 0.006076811 | 0.000000000 | Chert_1 |\n",
       "| 3 | BH 003 | Undiff. igneous | 0.11377399 | 0.005714286 | 0.009381663 | 0.002132196 | 0.02626866 | 0.02328358 |  1.65637527 | 0.015437100 | ⋯ | 0.011428571 | 0.07565032 | 0.015692964 | 0.03650320 | 0.007590618 | 0.007420043 | 0.000085288 | 0.009722814 | 0.071300640 | Chert_3 |\n",
       "| 4 | BH 004 | Undiff. igneous | 0.10462904 | 0.002627050 | 0.231452124 | 0.006794094 | 0.02074463 | 0.02925990 | 11.30491892 | 0.001992934 | ⋯ | 0.020654045 | 0.06585742 | 0.025726968 | 0.03116224 | 0.019295226 | 0.008062324 | 0.003170577 | 0.063773893 | 0.000000000 | Igneous |\n",
       "| 5 | BH 005 | Gravel Cherts   | 0.09101322 | 0.000881057 | 0.005550661 | 0.007929515 | 0.08317181 | 0.03074890 |  1.91048458 | 0.026607930 | ⋯ | 0.022819383 | 0.93788546 | 0.007929515 | 0.07444934 | 0.034713656 | 0.017180617 | 0.038766520 | 0.021409692 | 0.094449339 | Chert_3 |\n",
       "| 6 | BH 006 | Gravel Cherts   | 0.10854994 | 0.003678274 | 0.000000000 | 0.010053948 | 0.01618440 | 0.02354095 |  0.51356874 | 0.002533922 | ⋯ | 0.009645251 | 0.06457414 | 0.018881805 | 0.01790093 | 0.017573974 | 0.008664378 | 0.000081739 | 0.006457414 | 0.000980873 | Chert_1 |\n",
       "\n"
      ],
      "text/plain": [
       "  sample_id Vis             Ag.Rh      Al.Rh       As.Rh       Au.Rh      \n",
       "1 BH 001    El Sauz Chert   0.10972569 0.003075644 0.011637573 0.007481297\n",
       "2 BH 002    Gravel Cherts   0.11635067 0.001458435 0.002025604 0.000081024\n",
       "3 BH 003    Undiff. igneous 0.11377399 0.005714286 0.009381663 0.002132196\n",
       "4 BH 004    Undiff. igneous 0.10462904 0.002627050 0.231452124 0.006794094\n",
       "5 BH 005    Gravel Cherts   0.09101322 0.000881057 0.005550661 0.007929515\n",
       "6 BH 006    Gravel Cherts   0.10854994 0.003678274 0.000000000 0.010053948\n",
       "  Ca.Rh      Cu.Rh      Fe.Rh       K.Rh        ⋯ Sn.Rh       Sr.Rh     \n",
       "1 0.01246883 0.02236077  0.11197008 0.003657523 ⋯ 0.015128845 0.06118038\n",
       "2 0.01450332 0.02414520  0.05777022 0.000162048 ⋯ 0.008102415 0.39734241\n",
       "3 0.02626866 0.02328358  1.65637527 0.015437100 ⋯ 0.011428571 0.07565032\n",
       "4 0.02074463 0.02925990 11.30491892 0.001992934 ⋯ 0.020654045 0.06585742\n",
       "5 0.08317181 0.03074890  1.91048458 0.026607930 ⋯ 0.022819383 0.93788546\n",
       "6 0.01618440 0.02354095  0.51356874 0.002533922 ⋯ 0.009645251 0.06457414\n",
       "  Th.Rh       Ti.Rh      U.Rh        V.Rh        Y.Rh        Zn.Rh      \n",
       "1 0.002078138 0.07057357 0.000665004 0.002576891 0.000083126 0.010307564\n",
       "2 0.011019284 0.02130935 0.052827743 0.007616270 0.000081024 0.006076811\n",
       "3 0.015692964 0.03650320 0.007590618 0.007420043 0.000085288 0.009722814\n",
       "4 0.025726968 0.03116224 0.019295226 0.008062324 0.003170577 0.063773893\n",
       "5 0.007929515 0.07444934 0.034713656 0.017180617 0.038766520 0.021409692\n",
       "6 0.018881805 0.01790093 0.017573974 0.008664378 0.000081739 0.006457414\n",
       "  Zr.Rh       gmm_label\n",
       "1 0.247215295 ESC      \n",
       "2 0.000000000 Chert_1  \n",
       "3 0.071300640 Chert_3  \n",
       "4 0.000000000 Igneous  \n",
       "5 0.094449339 Chert_3  \n",
       "6 0.000980873 Chert_1  "
      ]
     },
     "metadata": {},
     "output_type": "display_data"
    }
   ],
   "source": [
    "test <- read.csv(\"Test.csv\", header = TRUE)\n",
    "\n",
    "# remove silicified wood & limestone\n",
    "test <- test[(test$Vis != \"Silicified Wood\" & test$Vis != \"Limestone\"),]\n",
    "\n",
    "# fix the name of the sample_id column\n",
    "names(test)[1] <- \"sample_id\"\n",
    "\n",
    "# add the generated labels from the earlier classification where X in this table matches sample_id in the other\n",
    "test$gmm_label <- train_df$gmm_label[match(test$sample_id, train_df$sample_id)]\n",
    "\n",
    "# restrict the dataset to only the \n",
    "test = test[,c(1,2,31:58)]\n",
    "\n",
    "# add the test set generated with the caret package\n",
    "# first, drop the is_known column\n",
    "lithTest <- subset(lithTest, select = -c(is_known))\n",
    "lithTest <- rbind(test, lithTest)\n",
    "\n",
    "head(lithTest)"
   ]
  },
  {
   "cell_type": "code",
   "execution_count": 19,
   "metadata": {},
   "outputs": [
    {
     "data": {
      "text/html": [
       "<style>\n",
       ".list-inline {list-style: none; margin:0; padding: 0}\n",
       ".list-inline>li {display: inline-block}\n",
       ".list-inline>li:not(:last-child)::after {content: \"\\00b7\"; padding: 0 .5ex}\n",
       "</style>\n",
       "<ol class=list-inline><li>344</li><li>30</li></ol>\n"
      ],
      "text/latex": [
       "\\begin{enumerate*}\n",
       "\\item 344\n",
       "\\item 30\n",
       "\\end{enumerate*}\n"
      ],
      "text/markdown": [
       "1. 344\n",
       "2. 30\n",
       "\n",
       "\n"
      ],
      "text/plain": [
       "[1] 344  30"
      ]
     },
     "metadata": {},
     "output_type": "display_data"
    }
   ],
   "source": [
    "dim(lithTest)"
   ]
  },
  {
   "cell_type": "code",
   "execution_count": 20,
   "metadata": {},
   "outputs": [
    {
     "data": {
      "text/html": [
       "<style>\n",
       ".list-inline {list-style: none; margin:0; padding: 0}\n",
       ".list-inline>li {display: inline-block}\n",
       ".list-inline>li:not(:last-child)::after {content: \"\\00b7\"; padding: 0 .5ex}\n",
       "</style>\n",
       "<ol class=list-inline><li>114</li><li>30</li></ol>\n"
      ],
      "text/latex": [
       "\\begin{enumerate*}\n",
       "\\item 114\n",
       "\\item 30\n",
       "\\end{enumerate*}\n"
      ],
      "text/markdown": [
       "1. 114\n",
       "2. 30\n",
       "\n",
       "\n"
      ],
      "text/plain": [
       "[1] 114  30"
      ]
     },
     "metadata": {},
     "output_type": "display_data"
    }
   ],
   "source": [
    "dim(test)"
   ]
  },
  {
   "cell_type": "code",
   "execution_count": 21,
   "metadata": {},
   "outputs": [
    {
     "data": {
      "text/html": [
       "<table>\n",
       "<caption>A data.frame: 6 × 27</caption>\n",
       "<thead>\n",
       "\t<tr><th></th><th scope=col>Ag.Rh</th><th scope=col>Al.Rh</th><th scope=col>As.Rh</th><th scope=col>Au.Rh</th><th scope=col>Ca.Rh</th><th scope=col>Cu.Rh</th><th scope=col>Fe.Rh</th><th scope=col>K.Rh</th><th scope=col>Mg.Rh</th><th scope=col>Mn.Rh</th><th scope=col>⋯</th><th scope=col>Si.Rh</th><th scope=col>Sn.Rh</th><th scope=col>Sr.Rh</th><th scope=col>Th.Rh</th><th scope=col>Ti.Rh</th><th scope=col>U.Rh</th><th scope=col>V.Rh</th><th scope=col>Y.Rh</th><th scope=col>Zn.Rh</th><th scope=col>Zr.Rh</th></tr>\n",
       "\t<tr><th></th><th scope=col>&lt;dbl&gt;</th><th scope=col>&lt;dbl&gt;</th><th scope=col>&lt;dbl&gt;</th><th scope=col>&lt;dbl&gt;</th><th scope=col>&lt;dbl&gt;</th><th scope=col>&lt;dbl&gt;</th><th scope=col>&lt;dbl&gt;</th><th scope=col>&lt;dbl&gt;</th><th scope=col>&lt;dbl&gt;</th><th scope=col>&lt;dbl&gt;</th><th scope=col>⋯</th><th scope=col>&lt;dbl&gt;</th><th scope=col>&lt;dbl&gt;</th><th scope=col>&lt;dbl&gt;</th><th scope=col>&lt;dbl&gt;</th><th scope=col>&lt;dbl&gt;</th><th scope=col>&lt;dbl&gt;</th><th scope=col>&lt;dbl&gt;</th><th scope=col>&lt;dbl&gt;</th><th scope=col>&lt;dbl&gt;</th><th scope=col>&lt;dbl&gt;</th></tr>\n",
       "</thead>\n",
       "<tbody>\n",
       "\t<tr><th scope=row>1</th><td>0.10972569</td><td>0.003075644</td><td>0.011637573</td><td>0.007481297</td><td>0.01246883</td><td>0.02236077</td><td> 0.11197008</td><td>0.003657523</td><td>0.006234414</td><td>0.004821280</td><td>⋯</td><td>0.07298421</td><td>0.015128845</td><td>0.06118038</td><td>0.002078138</td><td>0.07057357</td><td>0.000665004</td><td>0.002576891</td><td>0.000083126</td><td>0.010307564</td><td>0.247215295</td></tr>\n",
       "\t<tr><th scope=row>2</th><td>0.11635067</td><td>0.001458435</td><td>0.002025604</td><td>0.000081024</td><td>0.01450332</td><td>0.02414520</td><td> 0.05777022</td><td>0.000162048</td><td>0.000081024</td><td>0.001782531</td><td>⋯</td><td>0.06919462</td><td>0.008102415</td><td>0.39734241</td><td>0.011019284</td><td>0.02130935</td><td>0.052827743</td><td>0.007616270</td><td>0.000081024</td><td>0.006076811</td><td>0.000000000</td></tr>\n",
       "\t<tr><th scope=row>3</th><td>0.11377399</td><td>0.005714286</td><td>0.009381663</td><td>0.002132196</td><td>0.02626866</td><td>0.02328358</td><td> 1.65637527</td><td>0.015437100</td><td>0.008784648</td><td>0.016801706</td><td>⋯</td><td>0.05569296</td><td>0.011428571</td><td>0.07565032</td><td>0.015692964</td><td>0.03650320</td><td>0.007590618</td><td>0.007420043</td><td>0.000085288</td><td>0.009722814</td><td>0.071300640</td></tr>\n",
       "\t<tr><th scope=row>4</th><td>0.10462904</td><td>0.002627050</td><td>0.231452124</td><td>0.006794094</td><td>0.02074463</td><td>0.02925990</td><td>11.30491892</td><td>0.001992934</td><td>0.008243500</td><td>0.024639913</td><td>⋯</td><td>0.07464444</td><td>0.020654045</td><td>0.06585742</td><td>0.025726968</td><td>0.03116224</td><td>0.019295226</td><td>0.008062324</td><td>0.003170577</td><td>0.063773893</td><td>0.000000000</td></tr>\n",
       "\t<tr><th scope=row>5</th><td>0.09101322</td><td>0.000881057</td><td>0.005550661</td><td>0.007929515</td><td>0.08317181</td><td>0.03074890</td><td> 1.91048458</td><td>0.026607930</td><td>0.015594714</td><td>0.056475771</td><td>⋯</td><td>0.06176211</td><td>0.022819383</td><td>0.93788546</td><td>0.007929515</td><td>0.07444934</td><td>0.034713656</td><td>0.017180617</td><td>0.038766520</td><td>0.021409692</td><td>0.094449339</td></tr>\n",
       "\t<tr><th scope=row>6</th><td>0.10854994</td><td>0.003678274</td><td>0.000000000</td><td>0.010053948</td><td>0.01618440</td><td>0.02354095</td><td> 0.51356874</td><td>0.002533922</td><td>0.003351316</td><td>0.007193068</td><td>⋯</td><td>0.06547327</td><td>0.009645251</td><td>0.06457414</td><td>0.018881805</td><td>0.01790093</td><td>0.017573974</td><td>0.008664378</td><td>0.000081739</td><td>0.006457414</td><td>0.000980873</td></tr>\n",
       "</tbody>\n",
       "</table>\n"
      ],
      "text/latex": [
       "A data.frame: 6 × 27\n",
       "\\begin{tabular}{r|lllllllllllllllllllll}\n",
       "  & Ag.Rh & Al.Rh & As.Rh & Au.Rh & Ca.Rh & Cu.Rh & Fe.Rh & K.Rh & Mg.Rh & Mn.Rh & ⋯ & Si.Rh & Sn.Rh & Sr.Rh & Th.Rh & Ti.Rh & U.Rh & V.Rh & Y.Rh & Zn.Rh & Zr.Rh\\\\\n",
       "  & <dbl> & <dbl> & <dbl> & <dbl> & <dbl> & <dbl> & <dbl> & <dbl> & <dbl> & <dbl> & ⋯ & <dbl> & <dbl> & <dbl> & <dbl> & <dbl> & <dbl> & <dbl> & <dbl> & <dbl> & <dbl>\\\\\n",
       "\\hline\n",
       "\t1 & 0.10972569 & 0.003075644 & 0.011637573 & 0.007481297 & 0.01246883 & 0.02236077 &  0.11197008 & 0.003657523 & 0.006234414 & 0.004821280 & ⋯ & 0.07298421 & 0.015128845 & 0.06118038 & 0.002078138 & 0.07057357 & 0.000665004 & 0.002576891 & 0.000083126 & 0.010307564 & 0.247215295\\\\\n",
       "\t2 & 0.11635067 & 0.001458435 & 0.002025604 & 0.000081024 & 0.01450332 & 0.02414520 &  0.05777022 & 0.000162048 & 0.000081024 & 0.001782531 & ⋯ & 0.06919462 & 0.008102415 & 0.39734241 & 0.011019284 & 0.02130935 & 0.052827743 & 0.007616270 & 0.000081024 & 0.006076811 & 0.000000000\\\\\n",
       "\t3 & 0.11377399 & 0.005714286 & 0.009381663 & 0.002132196 & 0.02626866 & 0.02328358 &  1.65637527 & 0.015437100 & 0.008784648 & 0.016801706 & ⋯ & 0.05569296 & 0.011428571 & 0.07565032 & 0.015692964 & 0.03650320 & 0.007590618 & 0.007420043 & 0.000085288 & 0.009722814 & 0.071300640\\\\\n",
       "\t4 & 0.10462904 & 0.002627050 & 0.231452124 & 0.006794094 & 0.02074463 & 0.02925990 & 11.30491892 & 0.001992934 & 0.008243500 & 0.024639913 & ⋯ & 0.07464444 & 0.020654045 & 0.06585742 & 0.025726968 & 0.03116224 & 0.019295226 & 0.008062324 & 0.003170577 & 0.063773893 & 0.000000000\\\\\n",
       "\t5 & 0.09101322 & 0.000881057 & 0.005550661 & 0.007929515 & 0.08317181 & 0.03074890 &  1.91048458 & 0.026607930 & 0.015594714 & 0.056475771 & ⋯ & 0.06176211 & 0.022819383 & 0.93788546 & 0.007929515 & 0.07444934 & 0.034713656 & 0.017180617 & 0.038766520 & 0.021409692 & 0.094449339\\\\\n",
       "\t6 & 0.10854994 & 0.003678274 & 0.000000000 & 0.010053948 & 0.01618440 & 0.02354095 &  0.51356874 & 0.002533922 & 0.003351316 & 0.007193068 & ⋯ & 0.06547327 & 0.009645251 & 0.06457414 & 0.018881805 & 0.01790093 & 0.017573974 & 0.008664378 & 0.000081739 & 0.006457414 & 0.000980873\\\\\n",
       "\\end{tabular}\n"
      ],
      "text/markdown": [
       "\n",
       "A data.frame: 6 × 27\n",
       "\n",
       "| <!--/--> | Ag.Rh &lt;dbl&gt; | Al.Rh &lt;dbl&gt; | As.Rh &lt;dbl&gt; | Au.Rh &lt;dbl&gt; | Ca.Rh &lt;dbl&gt; | Cu.Rh &lt;dbl&gt; | Fe.Rh &lt;dbl&gt; | K.Rh &lt;dbl&gt; | Mg.Rh &lt;dbl&gt; | Mn.Rh &lt;dbl&gt; | ⋯ ⋯ | Si.Rh &lt;dbl&gt; | Sn.Rh &lt;dbl&gt; | Sr.Rh &lt;dbl&gt; | Th.Rh &lt;dbl&gt; | Ti.Rh &lt;dbl&gt; | U.Rh &lt;dbl&gt; | V.Rh &lt;dbl&gt; | Y.Rh &lt;dbl&gt; | Zn.Rh &lt;dbl&gt; | Zr.Rh &lt;dbl&gt; |\n",
       "|---|---|---|---|---|---|---|---|---|---|---|---|---|---|---|---|---|---|---|---|---|---|\n",
       "| 1 | 0.10972569 | 0.003075644 | 0.011637573 | 0.007481297 | 0.01246883 | 0.02236077 |  0.11197008 | 0.003657523 | 0.006234414 | 0.004821280 | ⋯ | 0.07298421 | 0.015128845 | 0.06118038 | 0.002078138 | 0.07057357 | 0.000665004 | 0.002576891 | 0.000083126 | 0.010307564 | 0.247215295 |\n",
       "| 2 | 0.11635067 | 0.001458435 | 0.002025604 | 0.000081024 | 0.01450332 | 0.02414520 |  0.05777022 | 0.000162048 | 0.000081024 | 0.001782531 | ⋯ | 0.06919462 | 0.008102415 | 0.39734241 | 0.011019284 | 0.02130935 | 0.052827743 | 0.007616270 | 0.000081024 | 0.006076811 | 0.000000000 |\n",
       "| 3 | 0.11377399 | 0.005714286 | 0.009381663 | 0.002132196 | 0.02626866 | 0.02328358 |  1.65637527 | 0.015437100 | 0.008784648 | 0.016801706 | ⋯ | 0.05569296 | 0.011428571 | 0.07565032 | 0.015692964 | 0.03650320 | 0.007590618 | 0.007420043 | 0.000085288 | 0.009722814 | 0.071300640 |\n",
       "| 4 | 0.10462904 | 0.002627050 | 0.231452124 | 0.006794094 | 0.02074463 | 0.02925990 | 11.30491892 | 0.001992934 | 0.008243500 | 0.024639913 | ⋯ | 0.07464444 | 0.020654045 | 0.06585742 | 0.025726968 | 0.03116224 | 0.019295226 | 0.008062324 | 0.003170577 | 0.063773893 | 0.000000000 |\n",
       "| 5 | 0.09101322 | 0.000881057 | 0.005550661 | 0.007929515 | 0.08317181 | 0.03074890 |  1.91048458 | 0.026607930 | 0.015594714 | 0.056475771 | ⋯ | 0.06176211 | 0.022819383 | 0.93788546 | 0.007929515 | 0.07444934 | 0.034713656 | 0.017180617 | 0.038766520 | 0.021409692 | 0.094449339 |\n",
       "| 6 | 0.10854994 | 0.003678274 | 0.000000000 | 0.010053948 | 0.01618440 | 0.02354095 |  0.51356874 | 0.002533922 | 0.003351316 | 0.007193068 | ⋯ | 0.06547327 | 0.009645251 | 0.06457414 | 0.018881805 | 0.01790093 | 0.017573974 | 0.008664378 | 0.000081739 | 0.006457414 | 0.000980873 |\n",
       "\n"
      ],
      "text/plain": [
       "  Ag.Rh      Al.Rh       As.Rh       Au.Rh       Ca.Rh      Cu.Rh     \n",
       "1 0.10972569 0.003075644 0.011637573 0.007481297 0.01246883 0.02236077\n",
       "2 0.11635067 0.001458435 0.002025604 0.000081024 0.01450332 0.02414520\n",
       "3 0.11377399 0.005714286 0.009381663 0.002132196 0.02626866 0.02328358\n",
       "4 0.10462904 0.002627050 0.231452124 0.006794094 0.02074463 0.02925990\n",
       "5 0.09101322 0.000881057 0.005550661 0.007929515 0.08317181 0.03074890\n",
       "6 0.10854994 0.003678274 0.000000000 0.010053948 0.01618440 0.02354095\n",
       "  Fe.Rh       K.Rh        Mg.Rh       Mn.Rh       ⋯ Si.Rh      Sn.Rh      \n",
       "1  0.11197008 0.003657523 0.006234414 0.004821280 ⋯ 0.07298421 0.015128845\n",
       "2  0.05777022 0.000162048 0.000081024 0.001782531 ⋯ 0.06919462 0.008102415\n",
       "3  1.65637527 0.015437100 0.008784648 0.016801706 ⋯ 0.05569296 0.011428571\n",
       "4 11.30491892 0.001992934 0.008243500 0.024639913 ⋯ 0.07464444 0.020654045\n",
       "5  1.91048458 0.026607930 0.015594714 0.056475771 ⋯ 0.06176211 0.022819383\n",
       "6  0.51356874 0.002533922 0.003351316 0.007193068 ⋯ 0.06547327 0.009645251\n",
       "  Sr.Rh      Th.Rh       Ti.Rh      U.Rh        V.Rh        Y.Rh       \n",
       "1 0.06118038 0.002078138 0.07057357 0.000665004 0.002576891 0.000083126\n",
       "2 0.39734241 0.011019284 0.02130935 0.052827743 0.007616270 0.000081024\n",
       "3 0.07565032 0.015692964 0.03650320 0.007590618 0.007420043 0.000085288\n",
       "4 0.06585742 0.025726968 0.03116224 0.019295226 0.008062324 0.003170577\n",
       "5 0.93788546 0.007929515 0.07444934 0.034713656 0.017180617 0.038766520\n",
       "6 0.06457414 0.018881805 0.01790093 0.017573974 0.008664378 0.000081739\n",
       "  Zn.Rh       Zr.Rh      \n",
       "1 0.010307564 0.247215295\n",
       "2 0.006076811 0.000000000\n",
       "3 0.009722814 0.071300640\n",
       "4 0.063773893 0.000000000\n",
       "5 0.021409692 0.094449339\n",
       "6 0.006457414 0.000980873"
      ]
     },
     "metadata": {},
     "output_type": "display_data"
    }
   ],
   "source": [
    "# restrict dataset to only the elemental concentrations\n",
    "test_df <- lithTest[,3:29]\n",
    "\n",
    "head(test_df)"
   ]
  },
  {
   "cell_type": "markdown",
   "metadata": {},
   "source": [
    "Evaluate the results of the random forest trained on the labeled data. "
   ]
  },
  {
   "cell_type": "code",
   "execution_count": 26,
   "metadata": {},
   "outputs": [
    {
     "data": {
      "text/plain": [
       "          preds\n",
       "           Alibates Chert_1 Chert_2 Chert_3 EPC ESC Igneous KRF Oman\n",
       "  Alibates        0       1       2       1   0   0       0   0    0\n",
       "  Chert_1         0     140       9       0   1   0       0   0    0\n",
       "  Chert_2         0      14      34       2   4   0       0   0    0\n",
       "  Chert_3         0       2       4       8   3   4       0   0    0\n",
       "  EPC             0      10       1       0   3   0       0   0    0\n",
       "  ESC             0       4       0       0   0  74       0   0    0\n",
       "  Igneous         0       0       3       1   0   3      10   0    0\n",
       "  KRF             0       1       0       0   1   0       0   0    0\n",
       "  Oman            0       0       0       0   0   0       0   0    4"
      ]
     },
     "metadata": {},
     "output_type": "display_data"
    }
   ],
   "source": [
    "preds <- predict(RF_output_gmm, test_df)\n",
    "aa <- table(lithTest$gmm_label, preds)\n",
    "aa"
   ]
  },
  {
   "cell_type": "markdown",
   "metadata": {},
   "source": [
    "## Perform Validation Measures\n",
    "\n",
    "### Accuracy"
   ]
  },
  {
   "cell_type": "code",
   "execution_count": 27,
   "metadata": {},
   "outputs": [
    {
     "data": {
      "text/html": [
       "0.793604651162791"
      ],
      "text/latex": [
       "0.793604651162791"
      ],
      "text/markdown": [
       "0.793604651162791"
      ],
      "text/plain": [
       "[1] 0.7936047"
      ]
     },
     "metadata": {},
     "output_type": "display_data"
    }
   ],
   "source": [
    "accuracy <- (aa[1,1]+aa[2,2]+aa[3,3]+aa[4,4]+aa[5,5]\n",
    "             +aa[6,6]+aa[7,7]+aa[8,8]+aa[9,9])/sum(aa)\n",
    "accuracy"
   ]
  },
  {
   "cell_type": "markdown",
   "metadata": {},
   "source": [
    "### Precision"
   ]
  },
  {
   "cell_type": "code",
   "execution_count": 28,
   "metadata": {},
   "outputs": [
    {
     "name": "stdout",
     "output_type": "stream",
     "text": [
      "[1] \"Alibates: 0\"\n",
      "[1] \"Chert_1: 0.933\"\n",
      "[1] \"Chert_2: 0.63\"\n",
      "[1] \"Chert_3: 0.381\"\n",
      "[1] \"Edwards Plateau Chert: 0.214\"\n",
      "[1] \"El Sauz Chert: 0.949\"\n",
      "[1] \"Igneous: 0.588\"\n",
      "[1] \"Knife River Flint: 0\"\n",
      "[1] \"Oman Chert: 1\"\n"
     ]
    }
   ],
   "source": [
    "Prec_Ali <- aa[1,1]/sum(aa[1,])\n",
    "Prec_Ch1 <- aa[2,2]/sum(aa[2,])\n",
    "Prec_Ch2 <- aa[3,3]/sum(aa[3,])\n",
    "Prec_Ch3 <- aa[4,4]/sum(aa[4,])\n",
    "Prec_EPC <- aa[5,5]/sum(aa[5,])\n",
    "Prec_ESC <- aa[6,6]/sum(aa[6,])\n",
    "Prec_Ign <- aa[7,7]/sum(aa[7,])\n",
    "Prec_KRF <- aa[8,8]/sum(aa[8,])\n",
    "Prec_Oma <- aa[9,9]/sum(aa[9,])\n",
    "\n",
    "print(paste0(\"Alibates: \", round(Prec_Ali, 3)))\n",
    "print(paste0(\"Chert_1: \", round(Prec_Ch1, 3)))\n",
    "print(paste0(\"Chert_2: \", round(Prec_Ch2, 3)))\n",
    "print(paste0(\"Chert_3: \", round(Prec_Ch3, 3)))\n",
    "print(paste0(\"Edwards Plateau Chert: \", round(Prec_EPC, 3)))\n",
    "print(paste0(\"El Sauz Chert: \", round(Prec_ESC, 3)))\n",
    "print(paste0(\"Igneous: \", round(Prec_Ign, 3)))\n",
    "print(paste0(\"Knife River Flint: \", round(Prec_KRF, 3)))\n",
    "print(paste0(\"Oman Chert: \", round(Prec_Oma, 3)))"
   ]
  },
  {
   "cell_type": "markdown",
   "metadata": {},
   "source": [
    "### Recall"
   ]
  },
  {
   "cell_type": "code",
   "execution_count": 29,
   "metadata": {},
   "outputs": [
    {
     "name": "stdout",
     "output_type": "stream",
     "text": [
      "[1] \"Alibates: NaN\"\n",
      "[1] \"Chert_1: 0.814\"\n",
      "[1] \"Chert_2: 0.642\"\n",
      "[1] \"Chert_3: 0.667\"\n",
      "[1] \"Edwards Plateau Chert: 0.25\"\n",
      "[1] \"El Sauz Chert: 0.914\"\n",
      "[1] \"Igneous: 1\"\n",
      "[1] \"Knife River Flint: NaN\"\n",
      "[1] \"Oman Chert: 1\"\n"
     ]
    }
   ],
   "source": [
    "Recall_Ali <- aa[1,1]/sum(aa[,1])\n",
    "Recall_Ch1 <- aa[2,2]/sum(aa[,2])\n",
    "Recall_Ch2 <- aa[3,3]/sum(aa[,3])\n",
    "Recall_Ch3 <- aa[4,4]/sum(aa[,4])\n",
    "Recall_EPC <- aa[5,5]/sum(aa[,5])\n",
    "Recall_ESC <- aa[6,6]/sum(aa[,6])\n",
    "Recall_Ign <- aa[7,7]/sum(aa[,7])\n",
    "Recall_KRF <- aa[8,8]/sum(aa[,8])\n",
    "Recall_Oma <- aa[9,9]/sum(aa[,9])\n",
    "\n",
    "print(paste0(\"Alibates: \", round(Recall_Ali, 3)))\n",
    "print(paste0(\"Chert_1: \", round(Recall_Ch1, 3)))\n",
    "print(paste0(\"Chert_2: \", round(Recall_Ch2, 3)))\n",
    "print(paste0(\"Chert_3: \", round(Recall_Ch3, 3)))\n",
    "print(paste0(\"Edwards Plateau Chert: \", round(Recall_EPC, 3)))\n",
    "print(paste0(\"El Sauz Chert: \", round(Recall_ESC, 3)))\n",
    "print(paste0(\"Igneous: \", round(Recall_Ign, 3)))\n",
    "print(paste0(\"Knife River Flint: \", round(Recall_KRF, 3)))\n",
    "print(paste0(\"Oman Chert: \", round(Recall_Oma, 3)))"
   ]
  },
  {
   "cell_type": "markdown",
   "metadata": {},
   "source": [
    "### F1 Score"
   ]
  },
  {
   "cell_type": "code",
   "execution_count": 32,
   "metadata": {},
   "outputs": [
    {
     "name": "stdout",
     "output_type": "stream",
     "text": [
      "[1] \"Alibates: NaN\"\n",
      "[1] \"Chert_1: 0.87\"\n",
      "[1] \"Chert_2: 0.636\"\n",
      "[1] \"Chert_3: 0.485\"\n",
      "[1] \"Edwards Plateau Chert: 0.231\"\n",
      "[1] \"El Sauz Chert: 0.931\"\n",
      "[1] \"Igneous: 0.741\"\n",
      "[1] \"Knife River Flint: NaN\"\n",
      "[1] \"Oman Chert: 1\"\n"
     ]
    }
   ],
   "source": [
    "F1_Ali <- (2*Prec_Ali*Recall_Ali)/(Prec_Ali+Recall_Ali)\n",
    "F1_Ch1 <- (2*Prec_Ch1*Recall_Ch1)/(Prec_Ch1+Recall_Ch1)\n",
    "F1_Ch2 <- (2*Prec_Ch2*Recall_Ch2)/(Prec_Ch2+Recall_Ch2)\n",
    "F1_Ch3 <- (2*Prec_Ch3*Recall_Ch3)/(Prec_Ch3+Recall_Ch3)\n",
    "F1_EPC <- (2*Prec_EPC*Recall_EPC)/(Prec_EPC+Recall_EPC)\n",
    "F1_ESC <- (2*Prec_ESC*Recall_ESC)/(Prec_ESC+Recall_ESC)\n",
    "F1_Ign <- (2*Prec_Ign*Recall_Ign)/(Prec_Ign+Recall_Ign)\n",
    "F1_KRF <- (2*Prec_KRF*Recall_KRF)/(Prec_KRF+Recall_KRF)\n",
    "F1_Oma <- (2*Prec_Oma*Recall_Oma)/(Prec_Oma+Recall_Oma)\n",
    "\n",
    "print(paste0(\"Alibates: \", round(F1_Ali, 3)))\n",
    "print(paste0(\"Chert_1: \", round(F1_Ch1, 3)))\n",
    "print(paste0(\"Chert_2: \", round(F1_Ch2, 3)))\n",
    "print(paste0(\"Chert_3: \", round(F1_Ch3, 3)))\n",
    "print(paste0(\"Edwards Plateau Chert: \", round(F1_EPC, 3)))\n",
    "print(paste0(\"El Sauz Chert: \", round(F1_ESC, 3)))\n",
    "print(paste0(\"Igneous: \", round(F1_Ign, 3)))\n",
    "print(paste0(\"Knife River Flint: \", round(F1_KRF, 3)))\n",
    "print(paste0(\"Oman Chert: \", round(F1_Oma, 3)))"
   ]
  },
  {
   "cell_type": "code",
   "execution_count": null,
   "metadata": {},
   "outputs": [],
   "source": []
  }
 ],
 "metadata": {
  "kernelspec": {
   "display_name": "R",
   "language": "R",
   "name": "ir"
  },
  "language_info": {
   "codemirror_mode": "r",
   "file_extension": ".r",
   "mimetype": "text/x-r-source",
   "name": "R",
   "pygments_lexer": "r",
   "version": "4.0.2"
  }
 },
 "nbformat": 4,
 "nbformat_minor": 4
}
